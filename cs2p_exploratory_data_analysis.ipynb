{
 "cells": [
  {
   "cell_type": "markdown",
   "metadata": {},
   "source": [
    "# **Import Library & Data** <br>\n",
    "Langkah pertama kita adalah melakukan pemanggilan library yang di gunakan dalam permodelan kali ini."
   ]
  },
  {
   "cell_type": "code",
   "execution_count": 1,
   "metadata": {},
   "outputs": [],
   "source": [
    "# Import our modules\n",
    "import pandas as pd \n",
    "import numpy as np\n",
    "import seaborn as sns \n",
    "import matplotlib.pyplot as plt\n",
    "%matplotlib inline\n",
    "\n",
    "from datetime import datetime\n",
    "import datetime\n",
    "import warnings"
   ]
  },
  {
   "cell_type": "markdown",
   "metadata": {},
   "source": [
    "Pada bagian ini kita akan melakukan pemanggilan data dan masing-masing data akan disimpan ke dalam data frame. Selanjutnya kita akan melihat contoh data yang ada di dalam data frame tersebut."
   ]
  },
  {
   "cell_type": "code",
   "execution_count": 2,
   "metadata": {},
   "outputs": [],
   "source": [
    "# Import Dataset\n",
    "df_10 = pd.read_excel('df2.xlsx')"
   ]
  },
  {
   "cell_type": "markdown",
   "metadata": {},
   "source": [
    "# **Data Quality Check and Remediation**"
   ]
  },
  {
   "cell_type": "markdown",
   "metadata": {},
   "source": [
    "**Data Understanding**"
   ]
  },
  {
   "cell_type": "code",
   "execution_count": 3,
   "metadata": {},
   "outputs": [
    {
     "name": "stdout",
     "output_type": "stream",
     "text": [
      "<class 'pandas.core.frame.DataFrame'>\n",
      "RangeIndex: 397924 entries, 0 to 397923\n",
      "Data columns (total 29 columns):\n",
      " #   Column            Non-Null Count   Dtype         \n",
      "---  ------            --------------   -----         \n",
      " 0   InvoiceNo         397924 non-null  int64         \n",
      " 1   StockCode         397924 non-null  object        \n",
      " 2   Description       397924 non-null  object        \n",
      " 3   Quantity          397924 non-null  int64         \n",
      " 4   InvoiceDate       397924 non-null  datetime64[ns]\n",
      " 5   UnitPrice         397924 non-null  float64       \n",
      " 6   CustomerID        397924 non-null  int64         \n",
      " 7   Country           397924 non-null  object        \n",
      " 8   CustomerName      397924 non-null  object        \n",
      " 9   CustomerEmail     397924 non-null  object        \n",
      " 10  Gender            397924 non-null  object        \n",
      " 11  DateOfBirth       397924 non-null  datetime64[ns]\n",
      " 12  Profession        397924 non-null  object        \n",
      " 13  MonthlyIncome     397924 non-null  float64       \n",
      " 14  EducationalLevel  397924 non-null  object        \n",
      " 15  MaritalStatus     397924 non-null  object        \n",
      " 16  AmountSpent       397924 non-null  float64       \n",
      " 17  Dayname           397924 non-null  object        \n",
      " 18  month_year        397924 non-null  object        \n",
      " 19  year              397924 non-null  int64         \n",
      " 20  month             397924 non-null  int64         \n",
      " 21  day               397924 non-null  int64         \n",
      " 22  dayofweek         397924 non-null  int64         \n",
      " 23  dayofyear         397924 non-null  int64         \n",
      " 24  weekofyear        397924 non-null  int64         \n",
      " 25  quarter           397924 non-null  int64         \n",
      " 26  birth_year        397924 non-null  int64         \n",
      " 27  Age               397924 non-null  int64         \n",
      " 28  age_category      397924 non-null  object        \n",
      "dtypes: datetime64[ns](2), float64(3), int64(12), object(12)\n",
      "memory usage: 88.0+ MB\n"
     ]
    }
   ],
   "source": [
    "df_10.info()"
   ]
  },
  {
   "cell_type": "code",
   "execution_count": 4,
   "metadata": {},
   "outputs": [
    {
     "data": {
      "text/plain": [
       "InvoiceNo           0\n",
       "StockCode           0\n",
       "Description         0\n",
       "Quantity            0\n",
       "InvoiceDate         0\n",
       "UnitPrice           0\n",
       "CustomerID          0\n",
       "Country             0\n",
       "CustomerName        0\n",
       "CustomerEmail       0\n",
       "Gender              0\n",
       "DateOfBirth         0\n",
       "Profession          0\n",
       "MonthlyIncome       0\n",
       "EducationalLevel    0\n",
       "MaritalStatus       0\n",
       "AmountSpent         0\n",
       "Dayname             0\n",
       "month_year          0\n",
       "year                0\n",
       "month               0\n",
       "day                 0\n",
       "dayofweek           0\n",
       "dayofyear           0\n",
       "weekofyear          0\n",
       "quarter             0\n",
       "birth_year          0\n",
       "Age                 0\n",
       "age_category        0\n",
       "dtype: int64"
      ]
     },
     "execution_count": 4,
     "metadata": {},
     "output_type": "execute_result"
    }
   ],
   "source": [
    "df_10.isnull().sum()"
   ]
  },
  {
   "cell_type": "code",
   "execution_count": 5,
   "metadata": {},
   "outputs": [
    {
     "data": {
      "text/plain": [
       "(397924, 29)"
      ]
     },
     "execution_count": 5,
     "metadata": {},
     "output_type": "execute_result"
    }
   ],
   "source": [
    "df_10.shape"
   ]
  },
  {
   "cell_type": "code",
   "execution_count": 6,
   "metadata": {},
   "outputs": [
    {
     "data": {
      "text/html": [
       "<div>\n",
       "<style scoped>\n",
       "    .dataframe tbody tr th:only-of-type {\n",
       "        vertical-align: middle;\n",
       "    }\n",
       "\n",
       "    .dataframe tbody tr th {\n",
       "        vertical-align: top;\n",
       "    }\n",
       "\n",
       "    .dataframe thead th {\n",
       "        text-align: right;\n",
       "    }\n",
       "</style>\n",
       "<table border=\"1\" class=\"dataframe\">\n",
       "  <thead>\n",
       "    <tr style=\"text-align: right;\">\n",
       "      <th></th>\n",
       "      <th>InvoiceNo</th>\n",
       "      <th>StockCode</th>\n",
       "      <th>Description</th>\n",
       "      <th>Quantity</th>\n",
       "      <th>InvoiceDate</th>\n",
       "      <th>UnitPrice</th>\n",
       "      <th>CustomerID</th>\n",
       "      <th>Country</th>\n",
       "      <th>CustomerName</th>\n",
       "      <th>CustomerEmail</th>\n",
       "      <th>...</th>\n",
       "      <th>year</th>\n",
       "      <th>month</th>\n",
       "      <th>day</th>\n",
       "      <th>dayofweek</th>\n",
       "      <th>dayofyear</th>\n",
       "      <th>weekofyear</th>\n",
       "      <th>quarter</th>\n",
       "      <th>birth_year</th>\n",
       "      <th>Age</th>\n",
       "      <th>age_category</th>\n",
       "    </tr>\n",
       "  </thead>\n",
       "  <tbody>\n",
       "    <tr>\n",
       "      <th>0</th>\n",
       "      <td>536365</td>\n",
       "      <td>85123A</td>\n",
       "      <td>White Hanging Heart T-Light Holder</td>\n",
       "      <td>6</td>\n",
       "      <td>2010-12-01 08:26:00</td>\n",
       "      <td>2.55</td>\n",
       "      <td>17850</td>\n",
       "      <td>United Kingdom</td>\n",
       "      <td>Janis Sparwell</td>\n",
       "      <td>jsparwell1c@seattletimes.com</td>\n",
       "      <td>...</td>\n",
       "      <td>2010</td>\n",
       "      <td>12</td>\n",
       "      <td>1</td>\n",
       "      <td>3</td>\n",
       "      <td>335</td>\n",
       "      <td>48</td>\n",
       "      <td>4</td>\n",
       "      <td>1973</td>\n",
       "      <td>38</td>\n",
       "      <td>Millenials</td>\n",
       "    </tr>\n",
       "    <tr>\n",
       "      <th>1</th>\n",
       "      <td>536365</td>\n",
       "      <td>71053</td>\n",
       "      <td>White Metal Lantern</td>\n",
       "      <td>6</td>\n",
       "      <td>2010-12-01 08:26:00</td>\n",
       "      <td>3.39</td>\n",
       "      <td>17850</td>\n",
       "      <td>United Kingdom</td>\n",
       "      <td>Janis Sparwell</td>\n",
       "      <td>jsparwell1c@seattletimes.com</td>\n",
       "      <td>...</td>\n",
       "      <td>2010</td>\n",
       "      <td>12</td>\n",
       "      <td>1</td>\n",
       "      <td>3</td>\n",
       "      <td>335</td>\n",
       "      <td>48</td>\n",
       "      <td>4</td>\n",
       "      <td>1973</td>\n",
       "      <td>38</td>\n",
       "      <td>Millenials</td>\n",
       "    </tr>\n",
       "    <tr>\n",
       "      <th>2</th>\n",
       "      <td>536365</td>\n",
       "      <td>84406B</td>\n",
       "      <td>Cream Cupid Hearts Coat Hanger</td>\n",
       "      <td>8</td>\n",
       "      <td>2010-12-01 08:26:00</td>\n",
       "      <td>2.75</td>\n",
       "      <td>17850</td>\n",
       "      <td>United Kingdom</td>\n",
       "      <td>Janis Sparwell</td>\n",
       "      <td>jsparwell1c@seattletimes.com</td>\n",
       "      <td>...</td>\n",
       "      <td>2010</td>\n",
       "      <td>12</td>\n",
       "      <td>1</td>\n",
       "      <td>3</td>\n",
       "      <td>335</td>\n",
       "      <td>48</td>\n",
       "      <td>4</td>\n",
       "      <td>1973</td>\n",
       "      <td>38</td>\n",
       "      <td>Millenials</td>\n",
       "    </tr>\n",
       "    <tr>\n",
       "      <th>3</th>\n",
       "      <td>536365</td>\n",
       "      <td>84029G</td>\n",
       "      <td>Knitted Union Flag Hot Water Bottle</td>\n",
       "      <td>6</td>\n",
       "      <td>2010-12-01 08:26:00</td>\n",
       "      <td>3.39</td>\n",
       "      <td>17850</td>\n",
       "      <td>United Kingdom</td>\n",
       "      <td>Janis Sparwell</td>\n",
       "      <td>jsparwell1c@seattletimes.com</td>\n",
       "      <td>...</td>\n",
       "      <td>2010</td>\n",
       "      <td>12</td>\n",
       "      <td>1</td>\n",
       "      <td>3</td>\n",
       "      <td>335</td>\n",
       "      <td>48</td>\n",
       "      <td>4</td>\n",
       "      <td>1973</td>\n",
       "      <td>38</td>\n",
       "      <td>Millenials</td>\n",
       "    </tr>\n",
       "    <tr>\n",
       "      <th>4</th>\n",
       "      <td>536365</td>\n",
       "      <td>84029E</td>\n",
       "      <td>Red Woolly Hottie White Heart.</td>\n",
       "      <td>6</td>\n",
       "      <td>2010-12-01 08:26:00</td>\n",
       "      <td>3.39</td>\n",
       "      <td>17850</td>\n",
       "      <td>United Kingdom</td>\n",
       "      <td>Janis Sparwell</td>\n",
       "      <td>jsparwell1c@seattletimes.com</td>\n",
       "      <td>...</td>\n",
       "      <td>2010</td>\n",
       "      <td>12</td>\n",
       "      <td>1</td>\n",
       "      <td>3</td>\n",
       "      <td>335</td>\n",
       "      <td>48</td>\n",
       "      <td>4</td>\n",
       "      <td>1973</td>\n",
       "      <td>38</td>\n",
       "      <td>Millenials</td>\n",
       "    </tr>\n",
       "  </tbody>\n",
       "</table>\n",
       "<p>5 rows × 29 columns</p>\n",
       "</div>"
      ],
      "text/plain": [
       "   InvoiceNo StockCode                          Description  Quantity  \\\n",
       "0     536365    85123A   White Hanging Heart T-Light Holder         6   \n",
       "1     536365     71053                  White Metal Lantern         6   \n",
       "2     536365    84406B       Cream Cupid Hearts Coat Hanger         8   \n",
       "3     536365    84029G  Knitted Union Flag Hot Water Bottle         6   \n",
       "4     536365    84029E       Red Woolly Hottie White Heart.         6   \n",
       "\n",
       "          InvoiceDate  UnitPrice  CustomerID         Country    CustomerName  \\\n",
       "0 2010-12-01 08:26:00       2.55       17850  United Kingdom  Janis Sparwell   \n",
       "1 2010-12-01 08:26:00       3.39       17850  United Kingdom  Janis Sparwell   \n",
       "2 2010-12-01 08:26:00       2.75       17850  United Kingdom  Janis Sparwell   \n",
       "3 2010-12-01 08:26:00       3.39       17850  United Kingdom  Janis Sparwell   \n",
       "4 2010-12-01 08:26:00       3.39       17850  United Kingdom  Janis Sparwell   \n",
       "\n",
       "                  CustomerEmail  ...  year month day  dayofweek dayofyear  \\\n",
       "0  jsparwell1c@seattletimes.com  ...  2010    12   1          3       335   \n",
       "1  jsparwell1c@seattletimes.com  ...  2010    12   1          3       335   \n",
       "2  jsparwell1c@seattletimes.com  ...  2010    12   1          3       335   \n",
       "3  jsparwell1c@seattletimes.com  ...  2010    12   1          3       335   \n",
       "4  jsparwell1c@seattletimes.com  ...  2010    12   1          3       335   \n",
       "\n",
       "  weekofyear  quarter birth_year Age  age_category  \n",
       "0         48        4       1973  38    Millenials  \n",
       "1         48        4       1973  38    Millenials  \n",
       "2         48        4       1973  38    Millenials  \n",
       "3         48        4       1973  38    Millenials  \n",
       "4         48        4       1973  38    Millenials  \n",
       "\n",
       "[5 rows x 29 columns]"
      ]
     },
     "execution_count": 6,
     "metadata": {},
     "output_type": "execute_result"
    }
   ],
   "source": [
    "df_10.sort_index().head()"
   ]
  },
  {
   "cell_type": "markdown",
   "metadata": {},
   "source": [
    "**Descriptive statistics** "
   ]
  },
  {
   "cell_type": "markdown",
   "metadata": {},
   "source": [
    "Selanjutnya kita perlu melihat statistik deskriptif dari data yang akan di gunakan. Pandas memiliki fungsi yang bisa dengan mudah menampilkan statistik deskriptif dari data numerik yang dipakai mengunakan fungsi `describe()`. Dengan fungsi ini kita dapat dengan mudah melihat jumlah data, rata-rata, median, nilai minimal dan maksimal serta nilai quartile dari dataset yang digunakan."
   ]
  },
  {
   "cell_type": "code",
   "execution_count": 7,
   "metadata": {},
   "outputs": [
    {
     "name": "stderr",
     "output_type": "stream",
     "text": [
      "C:\\Users\\corne\\AppData\\Local\\Temp\\ipykernel_5324\\2994815376.py:2: FutureWarning: Treating datetime data as categorical rather than numeric in `.describe` is deprecated and will be removed in a future version of pandas. Specify `datetime_is_numeric=True` to silence this warning and adopt the future behavior now.\n",
      "  df_10.describe(exclude=[np.number])\n"
     ]
    },
    {
     "data": {
      "text/html": [
       "<div>\n",
       "<style scoped>\n",
       "    .dataframe tbody tr th:only-of-type {\n",
       "        vertical-align: middle;\n",
       "    }\n",
       "\n",
       "    .dataframe tbody tr th {\n",
       "        vertical-align: top;\n",
       "    }\n",
       "\n",
       "    .dataframe thead th {\n",
       "        text-align: right;\n",
       "    }\n",
       "</style>\n",
       "<table border=\"1\" class=\"dataframe\">\n",
       "  <thead>\n",
       "    <tr style=\"text-align: right;\">\n",
       "      <th></th>\n",
       "      <th>StockCode</th>\n",
       "      <th>Description</th>\n",
       "      <th>InvoiceDate</th>\n",
       "      <th>Country</th>\n",
       "      <th>CustomerName</th>\n",
       "      <th>CustomerEmail</th>\n",
       "      <th>Gender</th>\n",
       "      <th>DateOfBirth</th>\n",
       "      <th>Profession</th>\n",
       "      <th>EducationalLevel</th>\n",
       "      <th>MaritalStatus</th>\n",
       "      <th>Dayname</th>\n",
       "      <th>month_year</th>\n",
       "      <th>age_category</th>\n",
       "    </tr>\n",
       "  </thead>\n",
       "  <tbody>\n",
       "    <tr>\n",
       "      <th>count</th>\n",
       "      <td>397924</td>\n",
       "      <td>397924</td>\n",
       "      <td>397924</td>\n",
       "      <td>397924</td>\n",
       "      <td>397924</td>\n",
       "      <td>397924</td>\n",
       "      <td>397924</td>\n",
       "      <td>397924</td>\n",
       "      <td>397924</td>\n",
       "      <td>397924</td>\n",
       "      <td>397924</td>\n",
       "      <td>397924</td>\n",
       "      <td>397924</td>\n",
       "      <td>397924</td>\n",
       "    </tr>\n",
       "    <tr>\n",
       "      <th>unique</th>\n",
       "      <td>3665</td>\n",
       "      <td>3877</td>\n",
       "      <td>17286</td>\n",
       "      <td>37</td>\n",
       "      <td>4339</td>\n",
       "      <td>4339</td>\n",
       "      <td>2</td>\n",
       "      <td>3802</td>\n",
       "      <td>34</td>\n",
       "      <td>2</td>\n",
       "      <td>4</td>\n",
       "      <td>6</td>\n",
       "      <td>13</td>\n",
       "      <td>4</td>\n",
       "    </tr>\n",
       "    <tr>\n",
       "      <th>top</th>\n",
       "      <td>85123A</td>\n",
       "      <td>White Hanging Heart T-Light Holder</td>\n",
       "      <td>2011-11-14 15:27:00</td>\n",
       "      <td>United Kingdom</td>\n",
       "      <td>Drusy Comer</td>\n",
       "      <td>dcomer16@oaic.gov.au</td>\n",
       "      <td>Female</td>\n",
       "      <td>1972-12-17 00:00:00</td>\n",
       "      <td>Student</td>\n",
       "      <td>Haven't Bachelor Degree</td>\n",
       "      <td>Single</td>\n",
       "      <td>Thursday</td>\n",
       "      <td>2011-11</td>\n",
       "      <td>Millenials</td>\n",
       "    </tr>\n",
       "    <tr>\n",
       "      <th>freq</th>\n",
       "      <td>2035</td>\n",
       "      <td>2028</td>\n",
       "      <td>542</td>\n",
       "      <td>354345</td>\n",
       "      <td>7847</td>\n",
       "      <td>7847</td>\n",
       "      <td>214787</td>\n",
       "      <td>7847</td>\n",
       "      <td>61119</td>\n",
       "      <td>219396</td>\n",
       "      <td>183244</td>\n",
       "      <td>80052</td>\n",
       "      <td>64545</td>\n",
       "      <td>139822</td>\n",
       "    </tr>\n",
       "    <tr>\n",
       "      <th>first</th>\n",
       "      <td>NaN</td>\n",
       "      <td>NaN</td>\n",
       "      <td>2010-12-01 08:26:00</td>\n",
       "      <td>NaN</td>\n",
       "      <td>NaN</td>\n",
       "      <td>NaN</td>\n",
       "      <td>NaN</td>\n",
       "      <td>1950-01-02 00:00:00</td>\n",
       "      <td>NaN</td>\n",
       "      <td>NaN</td>\n",
       "      <td>NaN</td>\n",
       "      <td>NaN</td>\n",
       "      <td>NaN</td>\n",
       "      <td>NaN</td>\n",
       "    </tr>\n",
       "    <tr>\n",
       "      <th>last</th>\n",
       "      <td>NaN</td>\n",
       "      <td>NaN</td>\n",
       "      <td>2011-12-09 12:50:00</td>\n",
       "      <td>NaN</td>\n",
       "      <td>NaN</td>\n",
       "      <td>NaN</td>\n",
       "      <td>NaN</td>\n",
       "      <td>1994-12-02 00:00:00</td>\n",
       "      <td>NaN</td>\n",
       "      <td>NaN</td>\n",
       "      <td>NaN</td>\n",
       "      <td>NaN</td>\n",
       "      <td>NaN</td>\n",
       "      <td>NaN</td>\n",
       "    </tr>\n",
       "  </tbody>\n",
       "</table>\n",
       "</div>"
      ],
      "text/plain": [
       "       StockCode                         Description          InvoiceDate  \\\n",
       "count     397924                              397924               397924   \n",
       "unique      3665                                3877                17286   \n",
       "top       85123A  White Hanging Heart T-Light Holder  2011-11-14 15:27:00   \n",
       "freq        2035                                2028                  542   \n",
       "first        NaN                                 NaN  2010-12-01 08:26:00   \n",
       "last         NaN                                 NaN  2011-12-09 12:50:00   \n",
       "\n",
       "               Country CustomerName         CustomerEmail  Gender  \\\n",
       "count           397924       397924                397924  397924   \n",
       "unique              37         4339                  4339       2   \n",
       "top     United Kingdom  Drusy Comer  dcomer16@oaic.gov.au  Female   \n",
       "freq            354345         7847                  7847  214787   \n",
       "first              NaN          NaN                   NaN     NaN   \n",
       "last               NaN          NaN                   NaN     NaN   \n",
       "\n",
       "                DateOfBirth Profession         EducationalLevel MaritalStatus  \\\n",
       "count                397924     397924                   397924        397924   \n",
       "unique                 3802         34                        2             4   \n",
       "top     1972-12-17 00:00:00    Student  Haven't Bachelor Degree        Single   \n",
       "freq                   7847      61119                   219396        183244   \n",
       "first   1950-01-02 00:00:00        NaN                      NaN           NaN   \n",
       "last    1994-12-02 00:00:00        NaN                      NaN           NaN   \n",
       "\n",
       "         Dayname month_year age_category  \n",
       "count     397924     397924       397924  \n",
       "unique         6         13            4  \n",
       "top     Thursday    2011-11   Millenials  \n",
       "freq       80052      64545       139822  \n",
       "first        NaN        NaN          NaN  \n",
       "last         NaN        NaN          NaN  "
      ]
     },
     "execution_count": 7,
     "metadata": {},
     "output_type": "execute_result"
    }
   ],
   "source": [
    "# descriptive statistics without number\n",
    "df_10.describe(exclude=[np.number])"
   ]
  },
  {
   "cell_type": "code",
   "execution_count": 8,
   "metadata": {},
   "outputs": [
    {
     "data": {
      "text/html": [
       "<div>\n",
       "<style scoped>\n",
       "    .dataframe tbody tr th:only-of-type {\n",
       "        vertical-align: middle;\n",
       "    }\n",
       "\n",
       "    .dataframe tbody tr th {\n",
       "        vertical-align: top;\n",
       "    }\n",
       "\n",
       "    .dataframe thead th {\n",
       "        text-align: right;\n",
       "    }\n",
       "</style>\n",
       "<table border=\"1\" class=\"dataframe\">\n",
       "  <thead>\n",
       "    <tr style=\"text-align: right;\">\n",
       "      <th></th>\n",
       "      <th>InvoiceNo</th>\n",
       "      <th>Quantity</th>\n",
       "      <th>UnitPrice</th>\n",
       "      <th>CustomerID</th>\n",
       "      <th>MonthlyIncome</th>\n",
       "      <th>AmountSpent</th>\n",
       "      <th>year</th>\n",
       "      <th>month</th>\n",
       "      <th>day</th>\n",
       "      <th>dayofweek</th>\n",
       "      <th>dayofyear</th>\n",
       "      <th>weekofyear</th>\n",
       "      <th>quarter</th>\n",
       "      <th>birth_year</th>\n",
       "      <th>Age</th>\n",
       "    </tr>\n",
       "  </thead>\n",
       "  <tbody>\n",
       "    <tr>\n",
       "      <th>count</th>\n",
       "      <td>397924.000000</td>\n",
       "      <td>397924.000000</td>\n",
       "      <td>397924.000000</td>\n",
       "      <td>397924.000000</td>\n",
       "      <td>3.979240e+05</td>\n",
       "      <td>397924.000000</td>\n",
       "      <td>397924.000000</td>\n",
       "      <td>397924.000000</td>\n",
       "      <td>397924.000000</td>\n",
       "      <td>397924.000000</td>\n",
       "      <td>397924.000000</td>\n",
       "      <td>397924.000000</td>\n",
       "      <td>397924.000000</td>\n",
       "      <td>397924.000000</td>\n",
       "      <td>397924.000000</td>\n",
       "    </tr>\n",
       "    <tr>\n",
       "      <th>mean</th>\n",
       "      <td>560617.126645</td>\n",
       "      <td>13.021823</td>\n",
       "      <td>3.116174</td>\n",
       "      <td>15294.315171</td>\n",
       "      <td>4.349876e+06</td>\n",
       "      <td>22.394749</td>\n",
       "      <td>2010.934259</td>\n",
       "      <td>7.612537</td>\n",
       "      <td>15.042181</td>\n",
       "      <td>3.614555</td>\n",
       "      <td>215.432698</td>\n",
       "      <td>30.964629</td>\n",
       "      <td>2.856106</td>\n",
       "      <td>1971.647146</td>\n",
       "      <td>39.352854</td>\n",
       "    </tr>\n",
       "    <tr>\n",
       "      <th>std</th>\n",
       "      <td>13106.167695</td>\n",
       "      <td>180.420210</td>\n",
       "      <td>22.096788</td>\n",
       "      <td>1713.169877</td>\n",
       "      <td>2.574063e+06</td>\n",
       "      <td>309.055588</td>\n",
       "      <td>0.247829</td>\n",
       "      <td>3.416527</td>\n",
       "      <td>8.653771</td>\n",
       "      <td>1.928274</td>\n",
       "      <td>103.403711</td>\n",
       "      <td>14.755880</td>\n",
       "      <td>1.121873</td>\n",
       "      <td>13.380557</td>\n",
       "      <td>13.380557</td>\n",
       "    </tr>\n",
       "    <tr>\n",
       "      <th>min</th>\n",
       "      <td>536365.000000</td>\n",
       "      <td>1.000000</td>\n",
       "      <td>0.000000</td>\n",
       "      <td>12346.000000</td>\n",
       "      <td>5.222450e+03</td>\n",
       "      <td>0.000000</td>\n",
       "      <td>2010.000000</td>\n",
       "      <td>1.000000</td>\n",
       "      <td>1.000000</td>\n",
       "      <td>1.000000</td>\n",
       "      <td>4.000000</td>\n",
       "      <td>1.000000</td>\n",
       "      <td>1.000000</td>\n",
       "      <td>1950.000000</td>\n",
       "      <td>17.000000</td>\n",
       "    </tr>\n",
       "    <tr>\n",
       "      <th>25%</th>\n",
       "      <td>549234.000000</td>\n",
       "      <td>2.000000</td>\n",
       "      <td>1.250000</td>\n",
       "      <td>13969.000000</td>\n",
       "      <td>2.173278e+06</td>\n",
       "      <td>4.680000</td>\n",
       "      <td>2011.000000</td>\n",
       "      <td>5.000000</td>\n",
       "      <td>7.000000</td>\n",
       "      <td>2.000000</td>\n",
       "      <td>130.000000</td>\n",
       "      <td>19.000000</td>\n",
       "      <td>2.000000</td>\n",
       "      <td>1959.000000</td>\n",
       "      <td>28.000000</td>\n",
       "    </tr>\n",
       "    <tr>\n",
       "      <th>50%</th>\n",
       "      <td>561893.000000</td>\n",
       "      <td>6.000000</td>\n",
       "      <td>1.950000</td>\n",
       "      <td>15159.000000</td>\n",
       "      <td>4.334768e+06</td>\n",
       "      <td>11.800000</td>\n",
       "      <td>2011.000000</td>\n",
       "      <td>8.000000</td>\n",
       "      <td>15.000000</td>\n",
       "      <td>3.000000</td>\n",
       "      <td>240.000000</td>\n",
       "      <td>34.000000</td>\n",
       "      <td>3.000000</td>\n",
       "      <td>1972.000000</td>\n",
       "      <td>39.000000</td>\n",
       "    </tr>\n",
       "    <tr>\n",
       "      <th>75%</th>\n",
       "      <td>572090.000000</td>\n",
       "      <td>12.000000</td>\n",
       "      <td>3.750000</td>\n",
       "      <td>16795.000000</td>\n",
       "      <td>6.469307e+06</td>\n",
       "      <td>19.800000</td>\n",
       "      <td>2011.000000</td>\n",
       "      <td>11.000000</td>\n",
       "      <td>22.000000</td>\n",
       "      <td>5.000000</td>\n",
       "      <td>310.000000</td>\n",
       "      <td>44.000000</td>\n",
       "      <td>4.000000</td>\n",
       "      <td>1983.000000</td>\n",
       "      <td>52.000000</td>\n",
       "    </tr>\n",
       "    <tr>\n",
       "      <th>max</th>\n",
       "      <td>581587.000000</td>\n",
       "      <td>80995.000000</td>\n",
       "      <td>8142.750000</td>\n",
       "      <td>18287.000000</td>\n",
       "      <td>8.983495e+06</td>\n",
       "      <td>168469.600000</td>\n",
       "      <td>2011.000000</td>\n",
       "      <td>12.000000</td>\n",
       "      <td>31.000000</td>\n",
       "      <td>7.000000</td>\n",
       "      <td>357.000000</td>\n",
       "      <td>51.000000</td>\n",
       "      <td>4.000000</td>\n",
       "      <td>1994.000000</td>\n",
       "      <td>61.000000</td>\n",
       "    </tr>\n",
       "  </tbody>\n",
       "</table>\n",
       "</div>"
      ],
      "text/plain": [
       "           InvoiceNo       Quantity      UnitPrice     CustomerID  \\\n",
       "count  397924.000000  397924.000000  397924.000000  397924.000000   \n",
       "mean   560617.126645      13.021823       3.116174   15294.315171   \n",
       "std     13106.167695     180.420210      22.096788    1713.169877   \n",
       "min    536365.000000       1.000000       0.000000   12346.000000   \n",
       "25%    549234.000000       2.000000       1.250000   13969.000000   \n",
       "50%    561893.000000       6.000000       1.950000   15159.000000   \n",
       "75%    572090.000000      12.000000       3.750000   16795.000000   \n",
       "max    581587.000000   80995.000000    8142.750000   18287.000000   \n",
       "\n",
       "       MonthlyIncome    AmountSpent           year          month  \\\n",
       "count   3.979240e+05  397924.000000  397924.000000  397924.000000   \n",
       "mean    4.349876e+06      22.394749    2010.934259       7.612537   \n",
       "std     2.574063e+06     309.055588       0.247829       3.416527   \n",
       "min     5.222450e+03       0.000000    2010.000000       1.000000   \n",
       "25%     2.173278e+06       4.680000    2011.000000       5.000000   \n",
       "50%     4.334768e+06      11.800000    2011.000000       8.000000   \n",
       "75%     6.469307e+06      19.800000    2011.000000      11.000000   \n",
       "max     8.983495e+06  168469.600000    2011.000000      12.000000   \n",
       "\n",
       "                 day      dayofweek      dayofyear     weekofyear  \\\n",
       "count  397924.000000  397924.000000  397924.000000  397924.000000   \n",
       "mean       15.042181       3.614555     215.432698      30.964629   \n",
       "std         8.653771       1.928274     103.403711      14.755880   \n",
       "min         1.000000       1.000000       4.000000       1.000000   \n",
       "25%         7.000000       2.000000     130.000000      19.000000   \n",
       "50%        15.000000       3.000000     240.000000      34.000000   \n",
       "75%        22.000000       5.000000     310.000000      44.000000   \n",
       "max        31.000000       7.000000     357.000000      51.000000   \n",
       "\n",
       "             quarter     birth_year            Age  \n",
       "count  397924.000000  397924.000000  397924.000000  \n",
       "mean        2.856106    1971.647146      39.352854  \n",
       "std         1.121873      13.380557      13.380557  \n",
       "min         1.000000    1950.000000      17.000000  \n",
       "25%         2.000000    1959.000000      28.000000  \n",
       "50%         3.000000    1972.000000      39.000000  \n",
       "75%         4.000000    1983.000000      52.000000  \n",
       "max         4.000000    1994.000000      61.000000  "
      ]
     },
     "execution_count": 8,
     "metadata": {},
     "output_type": "execute_result"
    }
   ],
   "source": [
    "# descriptive statistics\n",
    "df_10.describe()"
   ]
  },
  {
   "cell_type": "code",
   "execution_count": 9,
   "metadata": {},
   "outputs": [
    {
     "data": {
      "text/html": [
       "<div>\n",
       "<style scoped>\n",
       "    .dataframe tbody tr th:only-of-type {\n",
       "        vertical-align: middle;\n",
       "    }\n",
       "\n",
       "    .dataframe tbody tr th {\n",
       "        vertical-align: top;\n",
       "    }\n",
       "\n",
       "    .dataframe thead th {\n",
       "        text-align: right;\n",
       "    }\n",
       "</style>\n",
       "<table border=\"1\" class=\"dataframe\">\n",
       "  <thead>\n",
       "    <tr style=\"text-align: right;\">\n",
       "      <th></th>\n",
       "      <th>InvoiceNo</th>\n",
       "      <th>Quantity</th>\n",
       "      <th>UnitPrice</th>\n",
       "      <th>CustomerID</th>\n",
       "      <th>MonthlyIncome</th>\n",
       "      <th>AmountSpent</th>\n",
       "      <th>year</th>\n",
       "      <th>month</th>\n",
       "      <th>day</th>\n",
       "      <th>dayofweek</th>\n",
       "      <th>dayofyear</th>\n",
       "      <th>weekofyear</th>\n",
       "      <th>quarter</th>\n",
       "      <th>birth_year</th>\n",
       "      <th>Age</th>\n",
       "    </tr>\n",
       "  </thead>\n",
       "  <tbody>\n",
       "    <tr>\n",
       "      <th>count</th>\n",
       "      <td>397924.00</td>\n",
       "      <td>397924.00</td>\n",
       "      <td>397924.00</td>\n",
       "      <td>397924.00</td>\n",
       "      <td>397924.00</td>\n",
       "      <td>397924.00</td>\n",
       "      <td>397924.00</td>\n",
       "      <td>397924.00</td>\n",
       "      <td>397924.00</td>\n",
       "      <td>397924.00</td>\n",
       "      <td>397924.00</td>\n",
       "      <td>397924.00</td>\n",
       "      <td>397924.00</td>\n",
       "      <td>397924.00</td>\n",
       "      <td>397924.00</td>\n",
       "    </tr>\n",
       "    <tr>\n",
       "      <th>mean</th>\n",
       "      <td>560617.13</td>\n",
       "      <td>13.02</td>\n",
       "      <td>3.12</td>\n",
       "      <td>15294.32</td>\n",
       "      <td>4349875.91</td>\n",
       "      <td>22.39</td>\n",
       "      <td>2010.93</td>\n",
       "      <td>7.61</td>\n",
       "      <td>15.04</td>\n",
       "      <td>3.61</td>\n",
       "      <td>215.43</td>\n",
       "      <td>30.96</td>\n",
       "      <td>2.86</td>\n",
       "      <td>1971.65</td>\n",
       "      <td>39.35</td>\n",
       "    </tr>\n",
       "    <tr>\n",
       "      <th>std</th>\n",
       "      <td>13106.17</td>\n",
       "      <td>180.42</td>\n",
       "      <td>22.10</td>\n",
       "      <td>1713.17</td>\n",
       "      <td>2574063.35</td>\n",
       "      <td>309.06</td>\n",
       "      <td>0.25</td>\n",
       "      <td>3.42</td>\n",
       "      <td>8.65</td>\n",
       "      <td>1.93</td>\n",
       "      <td>103.40</td>\n",
       "      <td>14.76</td>\n",
       "      <td>1.12</td>\n",
       "      <td>13.38</td>\n",
       "      <td>13.38</td>\n",
       "    </tr>\n",
       "    <tr>\n",
       "      <th>min</th>\n",
       "      <td>536365.00</td>\n",
       "      <td>1.00</td>\n",
       "      <td>0.00</td>\n",
       "      <td>12346.00</td>\n",
       "      <td>5222.45</td>\n",
       "      <td>0.00</td>\n",
       "      <td>2010.00</td>\n",
       "      <td>1.00</td>\n",
       "      <td>1.00</td>\n",
       "      <td>1.00</td>\n",
       "      <td>4.00</td>\n",
       "      <td>1.00</td>\n",
       "      <td>1.00</td>\n",
       "      <td>1950.00</td>\n",
       "      <td>17.00</td>\n",
       "    </tr>\n",
       "    <tr>\n",
       "      <th>25%</th>\n",
       "      <td>549234.00</td>\n",
       "      <td>2.00</td>\n",
       "      <td>1.25</td>\n",
       "      <td>13969.00</td>\n",
       "      <td>2173278.17</td>\n",
       "      <td>4.68</td>\n",
       "      <td>2011.00</td>\n",
       "      <td>5.00</td>\n",
       "      <td>7.00</td>\n",
       "      <td>2.00</td>\n",
       "      <td>130.00</td>\n",
       "      <td>19.00</td>\n",
       "      <td>2.00</td>\n",
       "      <td>1959.00</td>\n",
       "      <td>28.00</td>\n",
       "    </tr>\n",
       "    <tr>\n",
       "      <th>50%</th>\n",
       "      <td>561893.00</td>\n",
       "      <td>6.00</td>\n",
       "      <td>1.95</td>\n",
       "      <td>15159.00</td>\n",
       "      <td>4334768.12</td>\n",
       "      <td>11.80</td>\n",
       "      <td>2011.00</td>\n",
       "      <td>8.00</td>\n",
       "      <td>15.00</td>\n",
       "      <td>3.00</td>\n",
       "      <td>240.00</td>\n",
       "      <td>34.00</td>\n",
       "      <td>3.00</td>\n",
       "      <td>1972.00</td>\n",
       "      <td>39.00</td>\n",
       "    </tr>\n",
       "    <tr>\n",
       "      <th>75%</th>\n",
       "      <td>572090.00</td>\n",
       "      <td>12.00</td>\n",
       "      <td>3.75</td>\n",
       "      <td>16795.00</td>\n",
       "      <td>6469307.17</td>\n",
       "      <td>19.80</td>\n",
       "      <td>2011.00</td>\n",
       "      <td>11.00</td>\n",
       "      <td>22.00</td>\n",
       "      <td>5.00</td>\n",
       "      <td>310.00</td>\n",
       "      <td>44.00</td>\n",
       "      <td>4.00</td>\n",
       "      <td>1983.00</td>\n",
       "      <td>52.00</td>\n",
       "    </tr>\n",
       "    <tr>\n",
       "      <th>max</th>\n",
       "      <td>581587.00</td>\n",
       "      <td>80995.00</td>\n",
       "      <td>8142.75</td>\n",
       "      <td>18287.00</td>\n",
       "      <td>8983494.72</td>\n",
       "      <td>168469.60</td>\n",
       "      <td>2011.00</td>\n",
       "      <td>12.00</td>\n",
       "      <td>31.00</td>\n",
       "      <td>7.00</td>\n",
       "      <td>357.00</td>\n",
       "      <td>51.00</td>\n",
       "      <td>4.00</td>\n",
       "      <td>1994.00</td>\n",
       "      <td>61.00</td>\n",
       "    </tr>\n",
       "  </tbody>\n",
       "</table>\n",
       "</div>"
      ],
      "text/plain": [
       "       InvoiceNo   Quantity  UnitPrice  CustomerID  MonthlyIncome  \\\n",
       "count  397924.00  397924.00  397924.00   397924.00      397924.00   \n",
       "mean   560617.13      13.02       3.12    15294.32     4349875.91   \n",
       "std     13106.17     180.42      22.10     1713.17     2574063.35   \n",
       "min    536365.00       1.00       0.00    12346.00        5222.45   \n",
       "25%    549234.00       2.00       1.25    13969.00     2173278.17   \n",
       "50%    561893.00       6.00       1.95    15159.00     4334768.12   \n",
       "75%    572090.00      12.00       3.75    16795.00     6469307.17   \n",
       "max    581587.00   80995.00    8142.75    18287.00     8983494.72   \n",
       "\n",
       "       AmountSpent       year      month        day  dayofweek  dayofyear  \\\n",
       "count    397924.00  397924.00  397924.00  397924.00  397924.00  397924.00   \n",
       "mean         22.39    2010.93       7.61      15.04       3.61     215.43   \n",
       "std         309.06       0.25       3.42       8.65       1.93     103.40   \n",
       "min           0.00    2010.00       1.00       1.00       1.00       4.00   \n",
       "25%           4.68    2011.00       5.00       7.00       2.00     130.00   \n",
       "50%          11.80    2011.00       8.00      15.00       3.00     240.00   \n",
       "75%          19.80    2011.00      11.00      22.00       5.00     310.00   \n",
       "max      168469.60    2011.00      12.00      31.00       7.00     357.00   \n",
       "\n",
       "       weekofyear    quarter  birth_year        Age  \n",
       "count   397924.00  397924.00   397924.00  397924.00  \n",
       "mean        30.96       2.86     1971.65      39.35  \n",
       "std         14.76       1.12       13.38      13.38  \n",
       "min          1.00       1.00     1950.00      17.00  \n",
       "25%         19.00       2.00     1959.00      28.00  \n",
       "50%         34.00       3.00     1972.00      39.00  \n",
       "75%         44.00       4.00     1983.00      52.00  \n",
       "max         51.00       4.00     1994.00      61.00  "
      ]
     },
     "execution_count": 9,
     "metadata": {},
     "output_type": "execute_result"
    }
   ],
   "source": [
    "# descriptive statistics with round function\n",
    "df_10.describe().round(2)"
   ]
  },
  {
   "cell_type": "markdown",
   "metadata": {},
   "source": [
    "*Quartile & Interquartile Range (IQR)*<br>\n",
    "\n",
    "Kuartil adalah salah satu jenis kuantil yang membagi data menjadi empat bagian dengan jumlah yang kurang lebih sama. Sedangkan IQR merupakan selisih persentil ke-75 (kuartil atas) dan persentil ke-25 (kuartil bawah). \n",
    "\n",
    "* **Q1 (kuartil 1) 25%**: nilai tengah antara nilai terkecil dan median dari kelompok data. <br>\n",
    "*  **Q2 (kuartil 2) 50%**: median data yang menandai 50% data(membagi data menjadi dua). <br>\n",
    "* **Q3 (kuartil 3) 75%**: adalah nilai tengah antara median dan nilai tertinggi dari kelompok data. Kuantil ketiga menjadi penanda kuartil tersebut berada 75% dari bawah pada kelompok data.\n",
    "* **IQR**: kuartil ketiga dikurangi kuartil pertama."
   ]
  },
  {
   "cell_type": "code",
   "execution_count": 10,
   "metadata": {},
   "outputs": [
    {
     "data": {
      "text/html": [
       "<div>\n",
       "<style scoped>\n",
       "    .dataframe tbody tr th:only-of-type {\n",
       "        vertical-align: middle;\n",
       "    }\n",
       "\n",
       "    .dataframe tbody tr th {\n",
       "        vertical-align: top;\n",
       "    }\n",
       "\n",
       "    .dataframe thead th {\n",
       "        text-align: right;\n",
       "    }\n",
       "</style>\n",
       "<table border=\"1\" class=\"dataframe\">\n",
       "  <thead>\n",
       "    <tr style=\"text-align: right;\">\n",
       "      <th></th>\n",
       "      <th>Quantity</th>\n",
       "      <th>UnitPrice</th>\n",
       "      <th>AmountSpent</th>\n",
       "    </tr>\n",
       "  </thead>\n",
       "  <tbody>\n",
       "    <tr>\n",
       "      <th>count</th>\n",
       "      <td>397924.000000</td>\n",
       "      <td>397924.000000</td>\n",
       "      <td>397924.000000</td>\n",
       "    </tr>\n",
       "    <tr>\n",
       "      <th>mean</th>\n",
       "      <td>13.021823</td>\n",
       "      <td>3.116174</td>\n",
       "      <td>22.394749</td>\n",
       "    </tr>\n",
       "    <tr>\n",
       "      <th>std</th>\n",
       "      <td>180.420210</td>\n",
       "      <td>22.096788</td>\n",
       "      <td>309.055588</td>\n",
       "    </tr>\n",
       "    <tr>\n",
       "      <th>min</th>\n",
       "      <td>1.000000</td>\n",
       "      <td>0.000000</td>\n",
       "      <td>0.000000</td>\n",
       "    </tr>\n",
       "    <tr>\n",
       "      <th>25%</th>\n",
       "      <td>2.000000</td>\n",
       "      <td>1.250000</td>\n",
       "      <td>4.680000</td>\n",
       "    </tr>\n",
       "    <tr>\n",
       "      <th>50%</th>\n",
       "      <td>6.000000</td>\n",
       "      <td>1.950000</td>\n",
       "      <td>11.800000</td>\n",
       "    </tr>\n",
       "    <tr>\n",
       "      <th>75%</th>\n",
       "      <td>12.000000</td>\n",
       "      <td>3.750000</td>\n",
       "      <td>19.800000</td>\n",
       "    </tr>\n",
       "    <tr>\n",
       "      <th>max</th>\n",
       "      <td>80995.000000</td>\n",
       "      <td>8142.750000</td>\n",
       "      <td>168469.600000</td>\n",
       "    </tr>\n",
       "  </tbody>\n",
       "</table>\n",
       "</div>"
      ],
      "text/plain": [
       "            Quantity      UnitPrice    AmountSpent\n",
       "count  397924.000000  397924.000000  397924.000000\n",
       "mean       13.021823       3.116174      22.394749\n",
       "std       180.420210      22.096788     309.055588\n",
       "min         1.000000       0.000000       0.000000\n",
       "25%         2.000000       1.250000       4.680000\n",
       "50%         6.000000       1.950000      11.800000\n",
       "75%        12.000000       3.750000      19.800000\n",
       "max     80995.000000    8142.750000  168469.600000"
      ]
     },
     "execution_count": 10,
     "metadata": {},
     "output_type": "execute_result"
    }
   ],
   "source": [
    "df_10[['Quantity','UnitPrice','AmountSpent']].describe()\n"
   ]
  },
  {
   "cell_type": "code",
   "execution_count": 11,
   "metadata": {},
   "outputs": [],
   "source": [
    "# Q1 = precentile 25 from amount spent column\n",
    "q1 = df_10['AmountSpent'].describe()['25%']\n",
    "\n",
    "# Q2 = precentile 50 from amount spent column\n",
    "q2 = df_10['AmountSpent'].describe()['50%']\n",
    "\n",
    "# Q3 = precentile 75 from amount spent column\n",
    "q3 = df_10['AmountSpent'].describe()['75%']\n",
    "\n",
    "# IQR = q3 - q1\n",
    "iqr = q3-q1"
   ]
  },
  {
   "cell_type": "code",
   "execution_count": 12,
   "metadata": {},
   "outputs": [
    {
     "data": {
      "text/html": [
       "<div>\n",
       "<style scoped>\n",
       "    .dataframe tbody tr th:only-of-type {\n",
       "        vertical-align: middle;\n",
       "    }\n",
       "\n",
       "    .dataframe tbody tr th {\n",
       "        vertical-align: top;\n",
       "    }\n",
       "\n",
       "    .dataframe thead th {\n",
       "        text-align: right;\n",
       "    }\n",
       "</style>\n",
       "<table border=\"1\" class=\"dataframe\">\n",
       "  <thead>\n",
       "    <tr style=\"text-align: right;\">\n",
       "      <th></th>\n",
       "      <th>Q_IQR</th>\n",
       "      <th>amount_spent</th>\n",
       "    </tr>\n",
       "  </thead>\n",
       "  <tbody>\n",
       "    <tr>\n",
       "      <th>0</th>\n",
       "      <td>Q1</td>\n",
       "      <td>4.68</td>\n",
       "    </tr>\n",
       "    <tr>\n",
       "      <th>1</th>\n",
       "      <td>Q2</td>\n",
       "      <td>11.80</td>\n",
       "    </tr>\n",
       "    <tr>\n",
       "      <th>2</th>\n",
       "      <td>Q3</td>\n",
       "      <td>19.80</td>\n",
       "    </tr>\n",
       "    <tr>\n",
       "      <th>3</th>\n",
       "      <td>IQR</td>\n",
       "      <td>15.12</td>\n",
       "    </tr>\n",
       "  </tbody>\n",
       "</table>\n",
       "</div>"
      ],
      "text/plain": [
       "  Q_IQR  amount_spent\n",
       "0    Q1          4.68\n",
       "1    Q2         11.80\n",
       "2    Q3         19.80\n",
       "3   IQR         15.12"
      ]
     },
     "execution_count": 12,
     "metadata": {},
     "output_type": "execute_result"
    }
   ],
   "source": [
    "QIQR = pd.DataFrame({\n",
    "    'Q_IQR':['Q1','Q2','Q3','IQR'],\n",
    "    'amount_spent':[q1,q2,q3,iqr]\n",
    "})\n",
    "QIQR"
   ]
  },
  {
   "cell_type": "markdown",
   "metadata": {},
   "source": [
    "**Uji Normalitas Data**"
   ]
  },
  {
   "cell_type": "code",
   "execution_count": 13,
   "metadata": {},
   "outputs": [],
   "source": [
    "import statsmodels.api as sm\n",
    "import pylab"
   ]
  },
  {
   "cell_type": "code",
   "execution_count": 14,
   "metadata": {},
   "outputs": [
    {
     "data": {
      "text/plain": [
       "<function matplotlib.pyplot.show(close=None, block=None)>"
      ]
     },
     "execution_count": 14,
     "metadata": {},
     "output_type": "execute_result"
    },
    {
     "data": {
      "image/png": "[encoded data removed]",
      "text/plain": [
       "<Figure size 432x288 with 1 Axes>"
      ]
     },
     "metadata": {
      "needs_background": "light"
     },
     "output_type": "display_data"
    }
   ],
   "source": [
    "sm.qqplot(df_10['Quantity'], line='45')\n",
    "pylab.show"
   ]
  },
  {
   "cell_type": "markdown",
   "metadata": {},
   "source": [
    "*Kesimpulan*: Pada grafik diatas data tidak mengikuti garis/tidak terdistribusi normal."
   ]
  },
  {
   "cell_type": "code",
   "execution_count": 15,
   "metadata": {},
   "outputs": [],
   "source": [
    "from scipy.stats import shapiro"
   ]
  },
  {
   "cell_type": "code",
   "execution_count": 16,
   "metadata": {},
   "outputs": [
    {
     "name": "stdout",
     "output_type": "stream",
     "text": [
      "Tolak H0 Karena P-Value (0.0 < 5%)\n",
      "DATA TIDAK BERDISTRIBUSI NORMAL\n"
     ]
    },
    {
     "name": "stderr",
     "output_type": "stream",
     "text": [
      "C:\\Users\\corne\\AppData\\Local\\Programs\\Python\\Python310\\lib\\site-packages\\scipy\\stats\\morestats.py:1760: UserWarning: p-value may not be accurate for N > 5000.\n",
      "  warnings.warn(\"p-value may not be accurate for N > 5000.\")\n"
     ]
    }
   ],
   "source": [
    "# Uji normalitas data pada feature Quantity antar Setiap Product (Normalitas)\n",
    "norm, pval = shapiro(df_10['Quantity'])\n",
    "\n",
    "if pval < 0.05 :\n",
    "    print (f'Tolak H0 Karena P-Value ({pval} < 5%)')\n",
    "    print ('DATA TIDAK BERDISTRIBUSI NORMAL')\n",
    "else :\n",
    "    print (f'Gagal Tolak H0 Karena P-Value ({pval} > 5%)')\n",
    "    print ('DATA BERDISTRIBUSI NORMAL')"
   ]
  },
  {
   "cell_type": "code",
   "execution_count": 17,
   "metadata": {},
   "outputs": [
    {
     "data": {
      "text/plain": [
       "<function matplotlib.pyplot.show(close=None, block=None)>"
      ]
     },
     "execution_count": 17,
     "metadata": {},
     "output_type": "execute_result"
    },
    {
     "data": {
      "image/png": "[encoded data removed]",
      "text/plain": [
       "<Figure size 432x288 with 1 Axes>"
      ]
     },
     "metadata": {
      "needs_background": "light"
     },
     "output_type": "display_data"
    }
   ],
   "source": [
    "sm.qqplot(df_10['AmountSpent'], line='45')\n",
    "pylab.show"
   ]
  },
  {
   "cell_type": "code",
   "execution_count": 18,
   "metadata": {},
   "outputs": [
    {
     "name": "stdout",
     "output_type": "stream",
     "text": [
      "Tolak H0 Karena P-Value (0.0 < 5%)\n",
      "DATA TIDAK BERDISTRIBUSI NORMAL\n"
     ]
    },
    {
     "name": "stderr",
     "output_type": "stream",
     "text": [
      "C:\\Users\\corne\\AppData\\Local\\Programs\\Python\\Python310\\lib\\site-packages\\scipy\\stats\\morestats.py:1760: UserWarning: p-value may not be accurate for N > 5000.\n",
      "  warnings.warn(\"p-value may not be accurate for N > 5000.\")\n"
     ]
    }
   ],
   "source": [
    "# Uji normalitas data pada feature Amount Spent antar Setiap Product (Normalitas)\n",
    "norm, pval = shapiro(df_10['AmountSpent'])\n",
    "\n",
    "if pval < 0.05 :\n",
    "    print (f'Tolak H0 Karena P-Value ({pval} < 5%)')\n",
    "    print ('DATA TIDAK BERDISTRIBUSI NORMAL')\n",
    "else :\n",
    "    print (f'Gagal Tolak H0 Karena P-Value ({pval} > 5%)')\n",
    "    print ('DATA BERDISTRIBUSI NORMAL')"
   ]
  },
  {
   "cell_type": "markdown",
   "metadata": {},
   "source": [
    "**Uji Analisis Korelasi** <br>\n",
    "\n",
    "Uji korelasi perbandingan antara  `Quantity` dan `AmountSpent` (Spearman)"
   ]
  },
  {
   "cell_type": "markdown",
   "metadata": {},
   "source": [
    "**Dasar pengambilan keputusan:**\n",
    "* Jika nilai Signifikansi < 0.05, maka berkorelasi.\n",
    "* Jika nilai Signifficansi > 0,05, maka tidak berkorelasi.\n",
    "\n",
    "**Pedoman Kekuatan Hubungan (Correlation Coefficient)** \n",
    "* 0.00 - 0.25 = korelasi sangat lemah.\n",
    "* 0.26 - 0.50 = korelasi cukup.\n",
    "* 0.51 - 0.75 = korelasi kuat.\n",
    "* 0.76 - 0.99 = korelasi sangat kuat. \n",
    "* 1.00 = korelasi senipurna. \n",
    "\n",
    "**Kriteria Arah Hubungan** \n",
    "* Arah korelasi dilihat pada angka correlation coefficient. \n",
    "* Besarnya nilai correlation coefficient antara + 1 s/d -1. \n",
    "* Nilai correlation coefficient bernilai positif maka hubungan kedua variable searah. \n",
    "* Nilai correlation coefficient bernilai negatif, maka hubungan kedua variabel tidak searah. \n"
   ]
  },
  {
   "cell_type": "code",
   "execution_count": 19,
   "metadata": {},
   "outputs": [
    {
     "data": {
      "text/html": [
       "<div>\n",
       "<style scoped>\n",
       "    .dataframe tbody tr th:only-of-type {\n",
       "        vertical-align: middle;\n",
       "    }\n",
       "\n",
       "    .dataframe tbody tr th {\n",
       "        vertical-align: top;\n",
       "    }\n",
       "\n",
       "    .dataframe thead th {\n",
       "        text-align: right;\n",
       "    }\n",
       "</style>\n",
       "<table border=\"1\" class=\"dataframe\">\n",
       "  <thead>\n",
       "    <tr style=\"text-align: right;\">\n",
       "      <th></th>\n",
       "      <th>Quantity</th>\n",
       "      <th>AmountSpent</th>\n",
       "    </tr>\n",
       "  </thead>\n",
       "  <tbody>\n",
       "    <tr>\n",
       "      <th>Quantity</th>\n",
       "      <td>1.000000</td>\n",
       "      <td>0.657364</td>\n",
       "    </tr>\n",
       "    <tr>\n",
       "      <th>AmountSpent</th>\n",
       "      <td>0.657364</td>\n",
       "      <td>1.000000</td>\n",
       "    </tr>\n",
       "  </tbody>\n",
       "</table>\n",
       "</div>"
      ],
      "text/plain": [
       "             Quantity  AmountSpent\n",
       "Quantity     1.000000     0.657364\n",
       "AmountSpent  0.657364     1.000000"
      ]
     },
     "execution_count": 19,
     "metadata": {},
     "output_type": "execute_result"
    }
   ],
   "source": [
    "df_10[['Quantity', 'AmountSpent']].corr(method='spearman')"
   ]
  },
  {
   "cell_type": "markdown",
   "metadata": {},
   "source": [
    "**Kesimpulan:**\n",
    "- Terdapat korelasi antara banyaknya `Quantity` dan` Amount Spent` dari suatu customer.\n",
    "- Hasil korelasi memiliki kekuatan hubungan kuat, dimana besarnya nilai korelasi berada diangka 0.65.\n",
    "- Nilai correlation coefficient bernilai positif maka hubungan kedua variable antara `Quantity` dan` Amount Spent` adalah searah"
   ]
  },
  {
   "cell_type": "code",
   "execution_count": 20,
   "metadata": {},
   "outputs": [
    {
     "data": {
      "image/png": "[encoded data removed]",
      "text/plain": [
       "<Figure size 576x576 with 1 Axes>"
      ]
     },
     "metadata": {
      "needs_background": "light"
     },
     "output_type": "display_data"
    }
   ],
   "source": [
    "plt.figure(figsize=(8,8))\n",
    "sns.regplot(x = 'AmountSpent', y='Quantity', data = df_10)\n",
    "plt.show()"
   ]
  },
  {
   "cell_type": "code",
   "execution_count": 21,
   "metadata": {},
   "outputs": [
    {
     "data": {
      "image/png": "[encoded data removed]",
      "text/plain": [
       "<Figure size 576x576 with 2 Axes>"
      ]
     },
     "metadata": {
      "needs_background": "light"
     },
     "output_type": "display_data"
    }
   ],
   "source": [
    "plt.figure(figsize=(8,8))\n",
    "sns.heatmap(df_10[['AmountSpent', 'Quantity']].corr('spearman'), annot=True)\n",
    "plt.show()"
   ]
  },
  {
   "cell_type": "markdown",
   "metadata": {},
   "source": [
    "# **Exploratory Data Analysis**\n",
    "- Exploring and analysing the data"
   ]
  },
  {
   "cell_type": "markdown",
   "metadata": {},
   "source": [
    "***1. Consolidating the number of Sales Made per customer for each country***"
   ]
  },
  {
   "cell_type": "code",
   "execution_count": 22,
   "metadata": {},
   "outputs": [
    {
     "data": {
      "text/html": [
       "<div>\n",
       "<style scoped>\n",
       "    .dataframe tbody tr th:only-of-type {\n",
       "        vertical-align: middle;\n",
       "    }\n",
       "\n",
       "    .dataframe tbody tr th {\n",
       "        vertical-align: top;\n",
       "    }\n",
       "\n",
       "    .dataframe thead th {\n",
       "        text-align: right;\n",
       "    }\n",
       "</style>\n",
       "<table border=\"1\" class=\"dataframe\">\n",
       "  <thead>\n",
       "    <tr style=\"text-align: right;\">\n",
       "      <th></th>\n",
       "      <th>CustomerID</th>\n",
       "      <th>CustomerName</th>\n",
       "      <th>Country</th>\n",
       "      <th>NumberOfSales</th>\n",
       "    </tr>\n",
       "  </thead>\n",
       "  <tbody>\n",
       "    <tr>\n",
       "      <th>4019</th>\n",
       "      <td>17841</td>\n",
       "      <td>Drusy Comer</td>\n",
       "      <td>United Kingdom</td>\n",
       "      <td>7847</td>\n",
       "    </tr>\n",
       "    <tr>\n",
       "      <th>1888</th>\n",
       "      <td>14911</td>\n",
       "      <td>Ed Worcester</td>\n",
       "      <td>EIRE</td>\n",
       "      <td>5677</td>\n",
       "    </tr>\n",
       "    <tr>\n",
       "      <th>1298</th>\n",
       "      <td>14096</td>\n",
       "      <td>Adore MacNamara</td>\n",
       "      <td>United Kingdom</td>\n",
       "      <td>5111</td>\n",
       "    </tr>\n",
       "    <tr>\n",
       "      <th>334</th>\n",
       "      <td>12748</td>\n",
       "      <td>Pavlov Lideard</td>\n",
       "      <td>United Kingdom</td>\n",
       "      <td>4596</td>\n",
       "    </tr>\n",
       "    <tr>\n",
       "      <th>1670</th>\n",
       "      <td>14606</td>\n",
       "      <td>Roberto Hantusch</td>\n",
       "      <td>United Kingdom</td>\n",
       "      <td>2700</td>\n",
       "    </tr>\n",
       "    <tr>\n",
       "      <th>2185</th>\n",
       "      <td>15311</td>\n",
       "      <td>Barry Gooders</td>\n",
       "      <td>United Kingdom</td>\n",
       "      <td>2379</td>\n",
       "    </tr>\n",
       "    <tr>\n",
       "      <th>1698</th>\n",
       "      <td>14646</td>\n",
       "      <td>Janifer Comiam</td>\n",
       "      <td>Netherlands</td>\n",
       "      <td>2080</td>\n",
       "    </tr>\n",
       "    <tr>\n",
       "      <th>570</th>\n",
       "      <td>13089</td>\n",
       "      <td>Ciel Earwicker</td>\n",
       "      <td>United Kingdom</td>\n",
       "      <td>1818</td>\n",
       "    </tr>\n",
       "    <tr>\n",
       "      <th>699</th>\n",
       "      <td>13263</td>\n",
       "      <td>Salaidh Loudon</td>\n",
       "      <td>United Kingdom</td>\n",
       "      <td>1677</td>\n",
       "    </tr>\n",
       "    <tr>\n",
       "      <th>1443</th>\n",
       "      <td>14298</td>\n",
       "      <td>Bethanne Farenden</td>\n",
       "      <td>United Kingdom</td>\n",
       "      <td>1637</td>\n",
       "    </tr>\n",
       "  </tbody>\n",
       "</table>\n",
       "</div>"
      ],
      "text/plain": [
       "      CustomerID       CustomerName         Country  NumberOfSales\n",
       "4019       17841        Drusy Comer  United Kingdom           7847\n",
       "1888       14911       Ed Worcester            EIRE           5677\n",
       "1298       14096    Adore MacNamara  United Kingdom           5111\n",
       "334        12748     Pavlov Lideard  United Kingdom           4596\n",
       "1670       14606   Roberto Hantusch  United Kingdom           2700\n",
       "2185       15311      Barry Gooders  United Kingdom           2379\n",
       "1698       14646     Janifer Comiam     Netherlands           2080\n",
       "570        13089     Ciel Earwicker  United Kingdom           1818\n",
       "699        13263     Salaidh Loudon  United Kingdom           1677\n",
       "1443       14298  Bethanne Farenden  United Kingdom           1637"
      ]
     },
     "execution_count": 22,
     "metadata": {},
     "output_type": "execute_result"
    }
   ],
   "source": [
    "# We use InvoiceNo as the count for sales\n",
    "sales_per_cust = df_10.groupby(by=['CustomerID','CustomerName','Country'], as_index=False)['InvoiceNo'].count().sort_values(by='InvoiceNo', ascending=False)\n",
    "sales_per_cust.columns = ['CustomerID', 'CustomerName','Country', \"NumberOfSales\"]\n",
    "sales_per_cust.head(10)"
   ]
  },
  {
   "cell_type": "markdown",
   "metadata": {},
   "source": [
    "***2. Number of Sales for all Customers***"
   ]
  },
  {
   "cell_type": "code",
   "execution_count": 23,
   "metadata": {},
   "outputs": [
    {
     "data": {
      "text/html": [
       "<div>\n",
       "<style scoped>\n",
       "    .dataframe tbody tr th:only-of-type {\n",
       "        vertical-align: middle;\n",
       "    }\n",
       "\n",
       "    .dataframe tbody tr th {\n",
       "        vertical-align: top;\n",
       "    }\n",
       "\n",
       "    .dataframe thead th {\n",
       "        text-align: right;\n",
       "    }\n",
       "</style>\n",
       "<table border=\"1\" class=\"dataframe\">\n",
       "  <thead>\n",
       "    <tr style=\"text-align: right;\">\n",
       "      <th></th>\n",
       "      <th>CustomerID</th>\n",
       "      <th>Country</th>\n",
       "      <th>number_of_sales</th>\n",
       "    </tr>\n",
       "  </thead>\n",
       "  <tbody>\n",
       "    <tr>\n",
       "      <th>4019</th>\n",
       "      <td>17841</td>\n",
       "      <td>United Kingdom</td>\n",
       "      <td>7847</td>\n",
       "    </tr>\n",
       "    <tr>\n",
       "      <th>1888</th>\n",
       "      <td>14911</td>\n",
       "      <td>EIRE</td>\n",
       "      <td>5677</td>\n",
       "    </tr>\n",
       "    <tr>\n",
       "      <th>1298</th>\n",
       "      <td>14096</td>\n",
       "      <td>United Kingdom</td>\n",
       "      <td>5111</td>\n",
       "    </tr>\n",
       "    <tr>\n",
       "      <th>334</th>\n",
       "      <td>12748</td>\n",
       "      <td>United Kingdom</td>\n",
       "      <td>4596</td>\n",
       "    </tr>\n",
       "    <tr>\n",
       "      <th>1670</th>\n",
       "      <td>14606</td>\n",
       "      <td>United Kingdom</td>\n",
       "      <td>2700</td>\n",
       "    </tr>\n",
       "  </tbody>\n",
       "</table>\n",
       "</div>"
      ],
      "text/plain": [
       "      CustomerID         Country  number_of_sales\n",
       "4019       17841  United Kingdom             7847\n",
       "1888       14911            EIRE             5677\n",
       "1298       14096  United Kingdom             5111\n",
       "334        12748  United Kingdom             4596\n",
       "1670       14606  United Kingdom             2700"
      ]
     },
     "execution_count": 23,
     "metadata": {},
     "output_type": "execute_result"
    }
   ],
   "source": [
    "orders = df_10.groupby(by=['CustomerID','Country'], as_index=False)['InvoiceNo'].count()\\\n",
    "                                                                                .rename(columns={'InvoiceNo': 'number_of_sales'})\\\n",
    "                                                                                .sort_values('number_of_sales', ascending=False)\\\n",
    "                                                                                .head()\n",
    "orders"
   ]
  },
  {
   "cell_type": "code",
   "execution_count": 24,
   "metadata": {},
   "outputs": [
    {
     "data": {
      "image/png": "[encoded data removed]",
      "text/plain": [
       "<Figure size 1080x432 with 1 Axes>"
      ]
     },
     "metadata": {
      "needs_background": "light"
     },
     "output_type": "display_data"
    }
   ],
   "source": [
    "# Visualizing Number of Sales for all Customers\n",
    "orders = df_10.groupby(by=['CustomerID','Country'], as_index=False)['InvoiceNo'].count()\n",
    "plt.subplots(figsize=(15,6))\n",
    "plt.plot(orders.CustomerID, orders.InvoiceNo)\n",
    "plt.xlabel('Customers ID')\n",
    "plt.ylabel('Number of Orders')\n",
    "plt.title('Number of Orders for different Customers')\n",
    "plt.show()"
   ]
  },
  {
   "cell_type": "markdown",
   "metadata": {},
   "source": [
    "***3. Total Money Spent for all Customer***"
   ]
  },
  {
   "cell_type": "code",
   "execution_count": 25,
   "metadata": {},
   "outputs": [
    {
     "data": {
      "text/html": [
       "<div>\n",
       "<style scoped>\n",
       "    .dataframe tbody tr th:only-of-type {\n",
       "        vertical-align: middle;\n",
       "    }\n",
       "\n",
       "    .dataframe tbody tr th {\n",
       "        vertical-align: top;\n",
       "    }\n",
       "\n",
       "    .dataframe thead th {\n",
       "        text-align: right;\n",
       "    }\n",
       "</style>\n",
       "<table border=\"1\" class=\"dataframe\">\n",
       "  <thead>\n",
       "    <tr style=\"text-align: right;\">\n",
       "      <th></th>\n",
       "      <th>CustomerID</th>\n",
       "      <th>Country</th>\n",
       "      <th>Total Money Spent</th>\n",
       "    </tr>\n",
       "  </thead>\n",
       "  <tbody>\n",
       "    <tr>\n",
       "      <th>1698</th>\n",
       "      <td>14646</td>\n",
       "      <td>Netherlands</td>\n",
       "      <td>280206.02</td>\n",
       "    </tr>\n",
       "    <tr>\n",
       "      <th>4210</th>\n",
       "      <td>18102</td>\n",
       "      <td>United Kingdom</td>\n",
       "      <td>259657.30</td>\n",
       "    </tr>\n",
       "    <tr>\n",
       "      <th>3737</th>\n",
       "      <td>17450</td>\n",
       "      <td>United Kingdom</td>\n",
       "      <td>194550.79</td>\n",
       "    </tr>\n",
       "    <tr>\n",
       "      <th>3017</th>\n",
       "      <td>16446</td>\n",
       "      <td>United Kingdom</td>\n",
       "      <td>168472.50</td>\n",
       "    </tr>\n",
       "    <tr>\n",
       "      <th>1888</th>\n",
       "      <td>14911</td>\n",
       "      <td>EIRE</td>\n",
       "      <td>143825.06</td>\n",
       "    </tr>\n",
       "    <tr>\n",
       "      <th>...</th>\n",
       "      <td>...</td>\n",
       "      <td>...</td>\n",
       "      <td>...</td>\n",
       "    </tr>\n",
       "    <tr>\n",
       "      <th>4107</th>\n",
       "      <td>17956</td>\n",
       "      <td>United Kingdom</td>\n",
       "      <td>12.75</td>\n",
       "    </tr>\n",
       "    <tr>\n",
       "      <th>3023</th>\n",
       "      <td>16454</td>\n",
       "      <td>United Kingdom</td>\n",
       "      <td>6.90</td>\n",
       "    </tr>\n",
       "    <tr>\n",
       "      <th>1802</th>\n",
       "      <td>14792</td>\n",
       "      <td>United Kingdom</td>\n",
       "      <td>6.20</td>\n",
       "    </tr>\n",
       "    <tr>\n",
       "      <th>3226</th>\n",
       "      <td>16738</td>\n",
       "      <td>United Kingdom</td>\n",
       "      <td>3.75</td>\n",
       "    </tr>\n",
       "    <tr>\n",
       "      <th>693</th>\n",
       "      <td>13256</td>\n",
       "      <td>United Kingdom</td>\n",
       "      <td>0.00</td>\n",
       "    </tr>\n",
       "  </tbody>\n",
       "</table>\n",
       "<p>4347 rows × 3 columns</p>\n",
       "</div>"
      ],
      "text/plain": [
       "      CustomerID         Country  Total Money Spent\n",
       "1698       14646     Netherlands          280206.02\n",
       "4210       18102  United Kingdom          259657.30\n",
       "3737       17450  United Kingdom          194550.79\n",
       "3017       16446  United Kingdom          168472.50\n",
       "1888       14911            EIRE          143825.06\n",
       "...          ...             ...                ...\n",
       "4107       17956  United Kingdom              12.75\n",
       "3023       16454  United Kingdom               6.90\n",
       "1802       14792  United Kingdom               6.20\n",
       "3226       16738  United Kingdom               3.75\n",
       "693        13256  United Kingdom               0.00\n",
       "\n",
       "[4347 rows x 3 columns]"
      ]
     },
     "execution_count": 25,
     "metadata": {},
     "output_type": "execute_result"
    }
   ],
   "source": [
    "money_spent = df_10.groupby(by=['CustomerID','Country'], as_index=False)['AmountSpent'].sum()\\\n",
    "                                                                                .rename(columns={'AmountSpent': 'Total Money Spent'})\\\n",
    "                                                                                .sort_values('Total Money Spent', ascending=False)\n",
    "money_spent"
   ]
  },
  {
   "cell_type": "code",
   "execution_count": 26,
   "metadata": {},
   "outputs": [
    {
     "data": {
      "image/png": "[encoded data removed]",
      "text/plain": [
       "<Figure size 1080x432 with 1 Axes>"
      ]
     },
     "metadata": {
      "needs_background": "light"
     },
     "output_type": "display_data"
    }
   ],
   "source": [
    "# Visualizing Money Spent for all Customer\n",
    "money_spent = df_10.groupby(by=['CustomerID','Country'], as_index=False)['AmountSpent'].sum()\n",
    "plt.subplots(figsize=(15,6))\n",
    "plt.plot(money_spent.CustomerID, money_spent.AmountSpent)\n",
    "plt.xlabel('Customers ID')\n",
    "plt.ylabel('Money spent (Dollar)')\n",
    "plt.title('Money Spent for different Customers')\n",
    "plt.show()"
   ]
  },
  {
   "cell_type": "markdown",
   "metadata": {},
   "source": [
    "### **Purchasing Patterns**"
   ]
  },
  {
   "cell_type": "code",
   "execution_count": 27,
   "metadata": {},
   "outputs": [],
   "source": [
    "# Insert a new column as our 3rd row (index 2) with year_month by joining our year with month from our InvoiceDate field\n",
    "df_10.insert(loc=2, column='year_month', value=df_10['InvoiceDate'].map(lambda x: 100*x.year + x.month))\n",
    "\n",
    "# Insert a new column as our 6th column (index 5) with our Hour extracted from InvoiceDate\n",
    "df_10.insert(loc=5, column='hour', value=df_10.InvoiceDate.dt.hour)"
   ]
  },
  {
   "cell_type": "code",
   "execution_count": 28,
   "metadata": {},
   "outputs": [
    {
     "data": {
      "text/plain": [
       "Index(['InvoiceNo', 'StockCode', 'year_month', 'Description', 'Quantity',\n",
       "       'hour', 'InvoiceDate', 'UnitPrice', 'CustomerID', 'Country',\n",
       "       'CustomerName', 'CustomerEmail', 'Gender', 'DateOfBirth', 'Profession',\n",
       "       'MonthlyIncome', 'EducationalLevel', 'MaritalStatus', 'AmountSpent',\n",
       "       'Dayname', 'month_year', 'year', 'month', 'day', 'dayofweek',\n",
       "       'dayofyear', 'weekofyear', 'quarter', 'birth_year', 'Age',\n",
       "       'age_category'],\n",
       "      dtype='object')"
      ]
     },
     "execution_count": 28,
     "metadata": {},
     "output_type": "execute_result"
    }
   ],
   "source": [
    "df_10.columns"
   ]
  },
  {
   "cell_type": "code",
   "execution_count": 29,
   "metadata": {},
   "outputs": [
    {
     "data": {
      "text/plain": [
       "0    2010-12\n",
       "1    2010-12\n",
       "2    2010-12\n",
       "3    2010-12\n",
       "4    2010-12\n",
       "Name: month_year, dtype: object"
      ]
     },
     "metadata": {},
     "output_type": "display_data"
    },
    {
     "data": {
      "text/plain": [
       "0    8\n",
       "1    8\n",
       "2    8\n",
       "3    8\n",
       "4    8\n",
       "Name: hour, dtype: int64"
      ]
     },
     "metadata": {},
     "output_type": "display_data"
    }
   ],
   "source": [
    "# Check to see if our year_month and hour columns were made\n",
    "# display(df_10['year_month'].head())\n",
    "display(df_10['month_year'].head())\n",
    "display(df_10['hour'].head())"
   ]
  },
  {
   "cell_type": "markdown",
   "metadata": {},
   "source": [
    "***4. Total number of orders per month***"
   ]
  },
  {
   "cell_type": "code",
   "execution_count": 30,
   "metadata": {},
   "outputs": [
    {
     "data": {
      "text/html": [
       "<div>\n",
       "<style scoped>\n",
       "    .dataframe tbody tr th:only-of-type {\n",
       "        vertical-align: middle;\n",
       "    }\n",
       "\n",
       "    .dataframe tbody tr th {\n",
       "        vertical-align: top;\n",
       "    }\n",
       "\n",
       "    .dataframe thead th {\n",
       "        text-align: right;\n",
       "    }\n",
       "</style>\n",
       "<table border=\"1\" class=\"dataframe\">\n",
       "  <thead>\n",
       "    <tr style=\"text-align: right;\">\n",
       "      <th></th>\n",
       "      <th>InvoiceNo</th>\n",
       "      <th>month_year</th>\n",
       "      <th>Total Orders per Month</th>\n",
       "    </tr>\n",
       "  </thead>\n",
       "  <tbody>\n",
       "    <tr>\n",
       "      <th>16242</th>\n",
       "      <td>576339</td>\n",
       "      <td>2011-11</td>\n",
       "      <td>109002162</td>\n",
       "    </tr>\n",
       "    <tr>\n",
       "      <th>17524</th>\n",
       "      <td>579196</td>\n",
       "      <td>2011-11</td>\n",
       "      <td>107192163</td>\n",
       "    </tr>\n",
       "    <tr>\n",
       "      <th>18165</th>\n",
       "      <td>580727</td>\n",
       "      <td>2011-12</td>\n",
       "      <td>106388248</td>\n",
       "    </tr>\n",
       "    <tr>\n",
       "      <th>17128</th>\n",
       "      <td>578270</td>\n",
       "      <td>2011-11</td>\n",
       "      <td>88891062</td>\n",
       "    </tr>\n",
       "    <tr>\n",
       "      <th>15081</th>\n",
       "      <td>573576</td>\n",
       "      <td>2011-10</td>\n",
       "      <td>87482850</td>\n",
       "    </tr>\n",
       "    <tr>\n",
       "      <th>...</th>\n",
       "      <td>...</td>\n",
       "      <td>...</td>\n",
       "      <td>...</td>\n",
       "    </tr>\n",
       "    <tr>\n",
       "      <th>1246</th>\n",
       "      <td>539410</td>\n",
       "      <td>2010-12</td>\n",
       "      <td>201012</td>\n",
       "    </tr>\n",
       "    <tr>\n",
       "      <th>1260</th>\n",
       "      <td>539440</td>\n",
       "      <td>2010-12</td>\n",
       "      <td>201012</td>\n",
       "    </tr>\n",
       "    <tr>\n",
       "      <th>313</th>\n",
       "      <td>537035</td>\n",
       "      <td>2010-12</td>\n",
       "      <td>201012</td>\n",
       "    </tr>\n",
       "    <tr>\n",
       "      <th>1305</th>\n",
       "      <td>539567</td>\n",
       "      <td>2010-12</td>\n",
       "      <td>201012</td>\n",
       "    </tr>\n",
       "    <tr>\n",
       "      <th>1273</th>\n",
       "      <td>539460</td>\n",
       "      <td>2010-12</td>\n",
       "      <td>201012</td>\n",
       "    </tr>\n",
       "  </tbody>\n",
       "</table>\n",
       "<p>18536 rows × 3 columns</p>\n",
       "</div>"
      ],
      "text/plain": [
       "       InvoiceNo month_year  Total Orders per Month\n",
       "16242     576339    2011-11               109002162\n",
       "17524     579196    2011-11               107192163\n",
       "18165     580727    2011-12               106388248\n",
       "17128     578270    2011-11                88891062\n",
       "15081     573576    2011-10                87482850\n",
       "...          ...        ...                     ...\n",
       "1246      539410    2010-12                  201012\n",
       "1260      539440    2010-12                  201012\n",
       "313       537035    2010-12                  201012\n",
       "1305      539567    2010-12                  201012\n",
       "1273      539460    2010-12                  201012\n",
       "\n",
       "[18536 rows x 3 columns]"
      ]
     },
     "execution_count": 30,
     "metadata": {},
     "output_type": "execute_result"
    }
   ],
   "source": [
    "money_spent = df_10.groupby(by=['InvoiceNo','month_year'], as_index=False)['year_month'].sum()\\\n",
    "                                                                                 .rename(columns={'year_month': 'Total Orders per Month'})\\\n",
    "                                                                                 .sort_values('Total Orders per Month', ascending=False)\n",
    "money_spent"
   ]
  },
  {
   "cell_type": "code",
   "execution_count": 31,
   "metadata": {},
   "outputs": [
    {
     "data": {
      "image/png": "[encoded data removed]",
      "text/plain": [
       "<Figure size 1080x432 with 1 Axes>"
      ]
     },
     "metadata": {
      "needs_background": "light"
     },
     "output_type": "display_data"
    }
   ],
   "source": [
    "# Create a plot that shows the number of orders per month \n",
    "ax = df_10.groupby('InvoiceNo')['year_month'].unique().value_counts().sort_index().plot(kind='bar',color='b',figsize=(15,6))\n",
    "ax.set_xlabel('Month',fontsize=15)\n",
    "ax.set_ylabel('Number of Orders',fontsize=15)\n",
    "ax.set_title('Number of orders for per Month (1st Dec 2010 - 9th Dec 2011)',fontsize=15)\n",
    "ax.set_xticklabels(('Dec_10','Jan_11','Feb_11','Mar_11','Apr_11','May_11','Jun_11','July_11','Aug_11','Sep_11','Oct_11','Nov_11','Dec_11'), rotation='horizontal', fontsize=13)\n",
    "plt.show()"
   ]
  },
  {
   "cell_type": "markdown",
   "metadata": {},
   "source": [
    "***5. number of orders per day of the week***"
   ]
  },
  {
   "cell_type": "code",
   "execution_count": 32,
   "metadata": {},
   "outputs": [
    {
     "data": {
      "text/html": [
       "<div>\n",
       "<style scoped>\n",
       "    .dataframe tbody tr th:only-of-type {\n",
       "        vertical-align: middle;\n",
       "    }\n",
       "\n",
       "    .dataframe tbody tr th {\n",
       "        vertical-align: top;\n",
       "    }\n",
       "\n",
       "    .dataframe thead th {\n",
       "        text-align: right;\n",
       "    }\n",
       "</style>\n",
       "<table border=\"1\" class=\"dataframe\">\n",
       "  <thead>\n",
       "    <tr style=\"text-align: right;\">\n",
       "      <th></th>\n",
       "      <th>dayofweek</th>\n",
       "    </tr>\n",
       "  </thead>\n",
       "  <tbody>\n",
       "    <tr>\n",
       "      <th>[1]</th>\n",
       "      <td>2863</td>\n",
       "    </tr>\n",
       "    <tr>\n",
       "      <th>[2]</th>\n",
       "      <td>3185</td>\n",
       "    </tr>\n",
       "    <tr>\n",
       "      <th>[3]</th>\n",
       "      <td>3455</td>\n",
       "    </tr>\n",
       "    <tr>\n",
       "      <th>[4]</th>\n",
       "      <td>4033</td>\n",
       "    </tr>\n",
       "    <tr>\n",
       "      <th>[5]</th>\n",
       "      <td>2831</td>\n",
       "    </tr>\n",
       "    <tr>\n",
       "      <th>[7]</th>\n",
       "      <td>2169</td>\n",
       "    </tr>\n",
       "  </tbody>\n",
       "</table>\n",
       "</div>"
      ],
      "text/plain": [
       "     dayofweek\n",
       "[1]       2863\n",
       "[2]       3185\n",
       "[3]       3455\n",
       "[4]       4033\n",
       "[5]       2831\n",
       "[7]       2169"
      ]
     },
     "execution_count": 32,
     "metadata": {},
     "output_type": "execute_result"
    }
   ],
   "source": [
    "# Let's see number of orders per day of the week\n",
    "pd.DataFrame(df_10.groupby('InvoiceNo')['dayofweek'].unique().value_counts().sort_index())"
   ]
  },
  {
   "cell_type": "code",
   "execution_count": 33,
   "metadata": {},
   "outputs": [
    {
     "data": {
      "image/png": "[encoded data removed]",
      "text/plain": [
       "<Figure size 1080x432 with 1 Axes>"
      ]
     },
     "metadata": {
      "needs_background": "light"
     },
     "output_type": "display_data"
    }
   ],
   "source": [
    "# Create a plot for the above\n",
    "ax = df_10.groupby('InvoiceNo')['dayofweek'].unique().value_counts().sort_index().plot(kind='bar',color='b',figsize=(15,6))\n",
    "ax.set_xlabel('Day',fontsize=15)\n",
    "ax.set_ylabel('Number of Orders',fontsize=15)\n",
    "ax.set_title('Number of orders for different Days',fontsize=15)\n",
    "ax.set_xticklabels(('Mon','Tue','Wed','Thur','Fri','Sun'), rotation='horizontal', fontsize=15)\n",
    "plt.show()"
   ]
  },
  {
   "cell_type": "markdown",
   "metadata": {},
   "source": [
    "***7. Number of sales per week of the year***"
   ]
  },
  {
   "cell_type": "code",
   "execution_count": 34,
   "metadata": {},
   "outputs": [
    {
     "data": {
      "text/html": [
       "<div>\n",
       "<style scoped>\n",
       "    .dataframe tbody tr th:only-of-type {\n",
       "        vertical-align: middle;\n",
       "    }\n",
       "\n",
       "    .dataframe tbody tr th {\n",
       "        vertical-align: top;\n",
       "    }\n",
       "\n",
       "    .dataframe thead th {\n",
       "        text-align: right;\n",
       "    }\n",
       "</style>\n",
       "<table border=\"1\" class=\"dataframe\">\n",
       "  <thead>\n",
       "    <tr style=\"text-align: right;\">\n",
       "      <th></th>\n",
       "      <th>weekofyear</th>\n",
       "    </tr>\n",
       "  </thead>\n",
       "  <tbody>\n",
       "    <tr>\n",
       "      <th>[51]</th>\n",
       "      <td>108</td>\n",
       "    </tr>\n",
       "    <tr>\n",
       "      <th>[50]</th>\n",
       "      <td>401</td>\n",
       "    </tr>\n",
       "    <tr>\n",
       "      <th>[49]</th>\n",
       "      <td>973</td>\n",
       "    </tr>\n",
       "    <tr>\n",
       "      <th>[48]</th>\n",
       "      <td>1035</td>\n",
       "    </tr>\n",
       "    <tr>\n",
       "      <th>[47]</th>\n",
       "      <td>595</td>\n",
       "    </tr>\n",
       "  </tbody>\n",
       "</table>\n",
       "</div>"
      ],
      "text/plain": [
       "      weekofyear\n",
       "[51]         108\n",
       "[50]         401\n",
       "[49]         973\n",
       "[48]        1035\n",
       "[47]         595"
      ]
     },
     "execution_count": 34,
     "metadata": {},
     "output_type": "execute_result"
    }
   ],
   "source": [
    "# number of orders per day of the week\n",
    "pd.DataFrame(df_10.groupby('InvoiceNo')['weekofyear'].unique().value_counts().sort_index(ascending=False)).head()"
   ]
  },
  {
   "cell_type": "code",
   "execution_count": 35,
   "metadata": {},
   "outputs": [
    {
     "data": {
      "image/png": "[encoded data removed]",
      "text/plain": [
       "<Figure size 1080x432 with 1 Axes>"
      ]
     },
     "metadata": {
      "needs_background": "light"
     },
     "output_type": "display_data"
    }
   ],
   "source": [
    "# Number of sales per week of the year\n",
    "ax = df_10.groupby('InvoiceNo')['weekofyear'].unique().value_counts().iloc[:-1].sort_index().plot(kind='bar',color='b',figsize=(15,6))\n",
    "ax.set_xlabel('Hour',fontsize=15)\n",
    "ax.set_ylabel('Number of Orders',fontsize=15)\n",
    "ax.set_title('Number of orders per week of the year',fontsize=15)\n",
    "# ax.set_xticklabels(range(0,52), rotation='horizontal', fontsize=15)\n",
    "\n",
    "plt.show()"
   ]
  },
  {
   "cell_type": "markdown",
   "metadata": {},
   "source": [
    "### **Analyze Unit Prices of our items**"
   ]
  },
  {
   "cell_type": "code",
   "execution_count": 36,
   "metadata": {},
   "outputs": [
    {
     "data": {
      "text/plain": [
       "count    397924.000000\n",
       "mean          3.116174\n",
       "std          22.096788\n",
       "min           0.000000\n",
       "25%           1.250000\n",
       "50%           1.950000\n",
       "75%           3.750000\n",
       "max        8142.750000\n",
       "Name: UnitPrice, dtype: float64"
      ]
     },
     "execution_count": 36,
     "metadata": {},
     "output_type": "execute_result"
    }
   ],
   "source": [
    "df_10.UnitPrice.describe()"
   ]
  },
  {
   "cell_type": "code",
   "execution_count": 37,
   "metadata": {},
   "outputs": [
    {
     "name": "stderr",
     "output_type": "stream",
     "text": [
      "C:\\Users\\corne\\AppData\\Local\\Programs\\Python\\Python310\\lib\\site-packages\\seaborn\\_decorators.py:36: FutureWarning: Pass the following variable as a keyword arg: x. From version 0.12, the only valid positional argument will be `data`, and passing other arguments without an explicit keyword will result in an error or misinterpretation.\n",
      "  warnings.warn(\n"
     ]
    },
    {
     "data": {
      "image/png": "[encoded data removed]",
      "text/plain": [
       "<Figure size 864x432 with 1 Axes>"
      ]
     },
     "metadata": {
      "needs_background": "light"
     },
     "output_type": "display_data"
    }
   ],
   "source": [
    "# check the distribution of unit price\n",
    "plt.subplots(figsize=(12,6))\n",
    "sns.boxplot(df_10.UnitPrice)\n",
    "plt.show()"
   ]
  },
  {
   "cell_type": "code",
   "execution_count": 38,
   "metadata": {},
   "outputs": [
    {
     "name": "stdout",
     "output_type": "stream",
     "text": [
      "40\n"
     ]
    },
    {
     "data": {
      "text/html": [
       "<div>\n",
       "<style scoped>\n",
       "    .dataframe tbody tr th:only-of-type {\n",
       "        vertical-align: middle;\n",
       "    }\n",
       "\n",
       "    .dataframe tbody tr th {\n",
       "        vertical-align: top;\n",
       "    }\n",
       "\n",
       "    .dataframe thead th {\n",
       "        text-align: right;\n",
       "    }\n",
       "</style>\n",
       "<table border=\"1\" class=\"dataframe\">\n",
       "  <thead>\n",
       "    <tr style=\"text-align: right;\">\n",
       "      <th></th>\n",
       "      <th>InvoiceNo</th>\n",
       "      <th>StockCode</th>\n",
       "      <th>year_month</th>\n",
       "      <th>Description</th>\n",
       "      <th>Quantity</th>\n",
       "      <th>hour</th>\n",
       "      <th>InvoiceDate</th>\n",
       "      <th>UnitPrice</th>\n",
       "      <th>CustomerID</th>\n",
       "      <th>Country</th>\n",
       "      <th>...</th>\n",
       "      <th>year</th>\n",
       "      <th>month</th>\n",
       "      <th>day</th>\n",
       "      <th>dayofweek</th>\n",
       "      <th>dayofyear</th>\n",
       "      <th>weekofyear</th>\n",
       "      <th>quarter</th>\n",
       "      <th>birth_year</th>\n",
       "      <th>Age</th>\n",
       "      <th>age_category</th>\n",
       "    </tr>\n",
       "  </thead>\n",
       "  <tbody>\n",
       "    <tr>\n",
       "      <th>6914</th>\n",
       "      <td>537197</td>\n",
       "      <td>22841</td>\n",
       "      <td>201012</td>\n",
       "      <td>Round Cake Tin Vintage Green</td>\n",
       "      <td>1</td>\n",
       "      <td>14</td>\n",
       "      <td>2010-12-05 14:02:00</td>\n",
       "      <td>0.0</td>\n",
       "      <td>12647</td>\n",
       "      <td>Germany</td>\n",
       "      <td>...</td>\n",
       "      <td>2010</td>\n",
       "      <td>12</td>\n",
       "      <td>5</td>\n",
       "      <td>7</td>\n",
       "      <td>339</td>\n",
       "      <td>48</td>\n",
       "      <td>4</td>\n",
       "      <td>1957</td>\n",
       "      <td>54</td>\n",
       "      <td>Generation X</td>\n",
       "    </tr>\n",
       "    <tr>\n",
       "      <th>22539</th>\n",
       "      <td>539263</td>\n",
       "      <td>22580</td>\n",
       "      <td>201012</td>\n",
       "      <td>Advent Calendar Gingham Sack</td>\n",
       "      <td>4</td>\n",
       "      <td>14</td>\n",
       "      <td>2010-12-16 14:36:00</td>\n",
       "      <td>0.0</td>\n",
       "      <td>16560</td>\n",
       "      <td>United Kingdom</td>\n",
       "      <td>...</td>\n",
       "      <td>2010</td>\n",
       "      <td>12</td>\n",
       "      <td>16</td>\n",
       "      <td>4</td>\n",
       "      <td>350</td>\n",
       "      <td>50</td>\n",
       "      <td>4</td>\n",
       "      <td>1978</td>\n",
       "      <td>33</td>\n",
       "      <td>Millenials</td>\n",
       "    </tr>\n",
       "    <tr>\n",
       "      <th>25379</th>\n",
       "      <td>539722</td>\n",
       "      <td>22423</td>\n",
       "      <td>201012</td>\n",
       "      <td>Regency Cakestand 3 Tier</td>\n",
       "      <td>10</td>\n",
       "      <td>13</td>\n",
       "      <td>2010-12-21 13:45:00</td>\n",
       "      <td>0.0</td>\n",
       "      <td>14911</td>\n",
       "      <td>EIRE</td>\n",
       "      <td>...</td>\n",
       "      <td>2010</td>\n",
       "      <td>12</td>\n",
       "      <td>21</td>\n",
       "      <td>2</td>\n",
       "      <td>355</td>\n",
       "      <td>51</td>\n",
       "      <td>4</td>\n",
       "      <td>1986</td>\n",
       "      <td>25</td>\n",
       "      <td>Millenials</td>\n",
       "    </tr>\n",
       "    <tr>\n",
       "      <th>29080</th>\n",
       "      <td>540372</td>\n",
       "      <td>22090</td>\n",
       "      <td>201101</td>\n",
       "      <td>Paper Bunting Retrospot</td>\n",
       "      <td>24</td>\n",
       "      <td>16</td>\n",
       "      <td>2011-01-06 16:41:00</td>\n",
       "      <td>0.0</td>\n",
       "      <td>13081</td>\n",
       "      <td>United Kingdom</td>\n",
       "      <td>...</td>\n",
       "      <td>2011</td>\n",
       "      <td>1</td>\n",
       "      <td>6</td>\n",
       "      <td>4</td>\n",
       "      <td>6</td>\n",
       "      <td>1</td>\n",
       "      <td>1</td>\n",
       "      <td>1994</td>\n",
       "      <td>17</td>\n",
       "      <td>Generation Z</td>\n",
       "    </tr>\n",
       "    <tr>\n",
       "      <th>29082</th>\n",
       "      <td>540372</td>\n",
       "      <td>22553</td>\n",
       "      <td>201101</td>\n",
       "      <td>Plasters In Tin Skulls</td>\n",
       "      <td>24</td>\n",
       "      <td>16</td>\n",
       "      <td>2011-01-06 16:41:00</td>\n",
       "      <td>0.0</td>\n",
       "      <td>13081</td>\n",
       "      <td>United Kingdom</td>\n",
       "      <td>...</td>\n",
       "      <td>2011</td>\n",
       "      <td>1</td>\n",
       "      <td>6</td>\n",
       "      <td>4</td>\n",
       "      <td>6</td>\n",
       "      <td>1</td>\n",
       "      <td>1</td>\n",
       "      <td>1994</td>\n",
       "      <td>17</td>\n",
       "      <td>Generation Z</td>\n",
       "    </tr>\n",
       "  </tbody>\n",
       "</table>\n",
       "<p>5 rows × 31 columns</p>\n",
       "</div>"
      ],
      "text/plain": [
       "       InvoiceNo StockCode  year_month                   Description  \\\n",
       "6914      537197     22841      201012  Round Cake Tin Vintage Green   \n",
       "22539     539263     22580      201012  Advent Calendar Gingham Sack   \n",
       "25379     539722     22423      201012      Regency Cakestand 3 Tier   \n",
       "29080     540372     22090      201101       Paper Bunting Retrospot   \n",
       "29082     540372     22553      201101        Plasters In Tin Skulls   \n",
       "\n",
       "       Quantity  hour         InvoiceDate  UnitPrice  CustomerID  \\\n",
       "6914          1    14 2010-12-05 14:02:00        0.0       12647   \n",
       "22539         4    14 2010-12-16 14:36:00        0.0       16560   \n",
       "25379        10    13 2010-12-21 13:45:00        0.0       14911   \n",
       "29080        24    16 2011-01-06 16:41:00        0.0       13081   \n",
       "29082        24    16 2011-01-06 16:41:00        0.0       13081   \n",
       "\n",
       "              Country  ...  year month day dayofweek dayofyear  weekofyear  \\\n",
       "6914          Germany  ...  2010    12   5         7       339          48   \n",
       "22539  United Kingdom  ...  2010    12  16         4       350          50   \n",
       "25379            EIRE  ...  2010    12  21         2       355          51   \n",
       "29080  United Kingdom  ...  2011     1   6         4         6           1   \n",
       "29082  United Kingdom  ...  2011     1   6         4         6           1   \n",
       "\n",
       "      quarter birth_year  Age  age_category  \n",
       "6914        4       1957   54  Generation X  \n",
       "22539       4       1978   33    Millenials  \n",
       "25379       4       1986   25    Millenials  \n",
       "29080       1       1994   17  Generation Z  \n",
       "29082       1       1994   17  Generation Z  \n",
       "\n",
       "[5 rows x 31 columns]"
      ]
     },
     "execution_count": 38,
     "metadata": {},
     "output_type": "execute_result"
    }
   ],
   "source": [
    "# What are the free items\n",
    "df_free = df_10[df_10.UnitPrice == 0]\n",
    "print(len(df_free))\n",
    "df_free.head()"
   ]
  },
  {
   "cell_type": "code",
   "execution_count": 39,
   "metadata": {},
   "outputs": [
    {
     "data": {
      "text/plain": [
       "201012     3\n",
       "201101     3\n",
       "201102     1\n",
       "201103     2\n",
       "201104     2\n",
       "201105     2\n",
       "201107     2\n",
       "201108     6\n",
       "201109     2\n",
       "201110     3\n",
       "201111    14\n",
       "Name: year_month, dtype: int64"
      ]
     },
     "execution_count": 39,
     "metadata": {},
     "output_type": "execute_result"
    }
   ],
   "source": [
    "# See when these free items were given out\n",
    "df_free.year_month.value_counts().sort_index()"
   ]
  },
  {
   "cell_type": "code",
   "execution_count": 40,
   "metadata": {},
   "outputs": [
    {
     "data": {
      "image/png": "[encoded data removed]",
      "text/plain": [
       "<Figure size 864x432 with 1 Axes>"
      ]
     },
     "metadata": {
      "needs_background": "light"
     },
     "output_type": "display_data"
    }
   ],
   "source": [
    "# Ploting the above data\n",
    "ax = df_free.year_month.value_counts().sort_index().plot(kind='bar',figsize=(12,6))\n",
    "ax.set_xlabel('Month',fontsize=15)\n",
    "ax.set_ylabel('Frequency',fontsize=15)\n",
    "ax.set_title('Frequency for different Months (Dec 2010 - Dec 2011)',fontsize=15)\n",
    "ax.set_xticklabels(('Dec_10','Jan_11','Feb_11','Mar_11','Apr_11','May_11','July_11','Aug_11','Sep_11','Oct_11','Nov_11'), rotation='horizontal', fontsize=13)\n",
    "plt.show()"
   ]
  },
  {
   "cell_type": "markdown",
   "metadata": {},
   "source": [
    "Rata-rata, perusahaan ecommerce memberikan 2-4 kali item GRATIS kepada pelanggan setiap bulannya (Kecuali bulan Juni 2011)"
   ]
  },
  {
   "cell_type": "markdown",
   "metadata": {},
   "source": [
    "### **Analysis per Country**"
   ]
  },
  {
   "cell_type": "markdown",
   "metadata": {},
   "source": [
    "***8. Number of unique customers in each country***"
   ]
  },
  {
   "cell_type": "code",
   "execution_count": 41,
   "metadata": {},
   "outputs": [
    {
     "data": {
      "text/html": [
       "<div>\n",
       "<style scoped>\n",
       "    .dataframe tbody tr th:only-of-type {\n",
       "        vertical-align: middle;\n",
       "    }\n",
       "\n",
       "    .dataframe tbody tr th {\n",
       "        vertical-align: top;\n",
       "    }\n",
       "\n",
       "    .dataframe thead th {\n",
       "        text-align: right;\n",
       "    }\n",
       "</style>\n",
       "<table border=\"1\" class=\"dataframe\">\n",
       "  <thead>\n",
       "    <tr style=\"text-align: right;\">\n",
       "      <th></th>\n",
       "      <th>Number of Customers</th>\n",
       "    </tr>\n",
       "    <tr>\n",
       "      <th>Country</th>\n",
       "      <th></th>\n",
       "    </tr>\n",
       "  </thead>\n",
       "  <tbody>\n",
       "    <tr>\n",
       "      <th>United Kingdom</th>\n",
       "      <td>354345</td>\n",
       "    </tr>\n",
       "    <tr>\n",
       "      <th>Germany</th>\n",
       "      <td>9042</td>\n",
       "    </tr>\n",
       "    <tr>\n",
       "      <th>France</th>\n",
       "      <td>8342</td>\n",
       "    </tr>\n",
       "    <tr>\n",
       "      <th>EIRE</th>\n",
       "      <td>7238</td>\n",
       "    </tr>\n",
       "    <tr>\n",
       "      <th>Spain</th>\n",
       "      <td>2485</td>\n",
       "    </tr>\n",
       "    <tr>\n",
       "      <th>Netherlands</th>\n",
       "      <td>2363</td>\n",
       "    </tr>\n",
       "    <tr>\n",
       "      <th>Belgium</th>\n",
       "      <td>2031</td>\n",
       "    </tr>\n",
       "    <tr>\n",
       "      <th>Switzerland</th>\n",
       "      <td>1842</td>\n",
       "    </tr>\n",
       "    <tr>\n",
       "      <th>Portugal</th>\n",
       "      <td>1462</td>\n",
       "    </tr>\n",
       "    <tr>\n",
       "      <th>Australia</th>\n",
       "      <td>1185</td>\n",
       "    </tr>\n",
       "  </tbody>\n",
       "</table>\n",
       "</div>"
      ],
      "text/plain": [
       "                Number of Customers\n",
       "Country                            \n",
       "United Kingdom               354345\n",
       "Germany                        9042\n",
       "France                         8342\n",
       "EIRE                           7238\n",
       "Spain                          2485\n",
       "Netherlands                    2363\n",
       "Belgium                        2031\n",
       "Switzerland                    1842\n",
       "Portugal                       1462\n",
       "Australia                      1185"
      ]
     },
     "execution_count": 41,
     "metadata": {},
     "output_type": "execute_result"
    }
   ],
   "source": [
    "group_country_orders = df_10.groupby('Country')['InvoiceDate'].count().sort_values(ascending=False)\n",
    "gco = pd.DataFrame(group_country_orders)\n",
    "gco = gco.rename(columns = {'InvoiceDate':'Number of Customers'})\n",
    "gco.head(10)"
   ]
  },
  {
   "cell_type": "code",
   "execution_count": 42,
   "metadata": {},
   "outputs": [
    {
     "data": {
      "image/png": "[encoded data removed]",
      "text/plain": [
       "<Figure size 1080x576 with 1 Axes>"
      ]
     },
     "metadata": {
      "needs_background": "light"
     },
     "output_type": "display_data"
    }
   ],
   "source": [
    "group_country_orders = df_10.groupby('Country')['InvoiceDate'].count().sort_values()\n",
    "\n",
    "# plot number of unique customers in each country (with UK)\n",
    "plt.subplots(figsize=(15,8))\n",
    "group_country_orders.plot(kind='barh', fontsize=12, color='b')\n",
    "plt.xlabel('Number of Orders', fontsize=12)\n",
    "plt.ylabel('Country', fontsize=12)\n",
    "plt.title('Number of Orders for different Countries', fontsize=12)\n",
    "plt.show()"
   ]
  },
  {
   "cell_type": "markdown",
   "metadata": {},
   "source": [
    "***9. Number of unique customers in each country without United Kingdom***"
   ]
  },
  {
   "cell_type": "code",
   "execution_count": 43,
   "metadata": {},
   "outputs": [
    {
     "data": {
      "text/html": [
       "<div>\n",
       "<style scoped>\n",
       "    .dataframe tbody tr th:only-of-type {\n",
       "        vertical-align: middle;\n",
       "    }\n",
       "\n",
       "    .dataframe tbody tr th {\n",
       "        vertical-align: top;\n",
       "    }\n",
       "\n",
       "    .dataframe thead th {\n",
       "        text-align: right;\n",
       "    }\n",
       "</style>\n",
       "<table border=\"1\" class=\"dataframe\">\n",
       "  <thead>\n",
       "    <tr style=\"text-align: right;\">\n",
       "      <th></th>\n",
       "      <th>Number of Customers</th>\n",
       "    </tr>\n",
       "    <tr>\n",
       "      <th>Country</th>\n",
       "      <th></th>\n",
       "    </tr>\n",
       "  </thead>\n",
       "  <tbody>\n",
       "    <tr>\n",
       "      <th>Germany</th>\n",
       "      <td>9042</td>\n",
       "    </tr>\n",
       "    <tr>\n",
       "      <th>France</th>\n",
       "      <td>8342</td>\n",
       "    </tr>\n",
       "    <tr>\n",
       "      <th>EIRE</th>\n",
       "      <td>7238</td>\n",
       "    </tr>\n",
       "    <tr>\n",
       "      <th>Spain</th>\n",
       "      <td>2485</td>\n",
       "    </tr>\n",
       "    <tr>\n",
       "      <th>Netherlands</th>\n",
       "      <td>2363</td>\n",
       "    </tr>\n",
       "  </tbody>\n",
       "</table>\n",
       "</div>"
      ],
      "text/plain": [
       "             Number of Customers\n",
       "Country                         \n",
       "Germany                     9042\n",
       "France                      8342\n",
       "EIRE                        7238\n",
       "Spain                       2485\n",
       "Netherlands                 2363"
      ]
     },
     "execution_count": 43,
     "metadata": {},
     "output_type": "execute_result"
    }
   ],
   "source": [
    "group_country_orders_without_uk = group_country_orders.copy()\n",
    "del group_country_orders_without_uk['United Kingdom']\n",
    "\n",
    "gco_wuk = pd.DataFrame(group_country_orders_without_uk)\n",
    "gco_wuk = gco_wuk.rename(columns = {'InvoiceDate':'Number of Customers'})\n",
    "gco_wuk.sort_values(by=['Number of Customers'],ascending=False).head()"
   ]
  },
  {
   "cell_type": "code",
   "execution_count": 44,
   "metadata": {},
   "outputs": [
    {
     "data": {
      "image/png": "[encoded data removed]",
      "text/plain": [
       "<Figure size 1080x576 with 1 Axes>"
      ]
     },
     "metadata": {
      "needs_background": "light"
     },
     "output_type": "display_data"
    }
   ],
   "source": [
    "# Excluding UK now\n",
    "group_country_orders = df_10.groupby('Country')['InvoiceDate'].count().sort_values()\n",
    "group_country_orders_without_uk = group_country_orders.copy()\n",
    "del group_country_orders_without_uk['United Kingdom']\n",
    "\n",
    "# plot number of unique customers in each country (without UK)\n",
    "plt.subplots(figsize=(15,8))\n",
    "group_country_orders_without_uk.plot(kind='barh', fontsize=12, color='b')\n",
    "plt.xlabel('Number of Orders', fontsize=12)\n",
    "plt.ylabel('Country', fontsize=12)\n",
    "plt.title('Number of Orders for different Countries', fontsize=12)\n",
    "plt.show()"
   ]
  },
  {
   "cell_type": "markdown",
   "metadata": {},
   "source": [
    "***10. Total money spent by each country without United Kingdom***"
   ]
  },
  {
   "cell_type": "code",
   "execution_count": 45,
   "metadata": {},
   "outputs": [
    {
     "data": {
      "text/html": [
       "<div>\n",
       "<style scoped>\n",
       "    .dataframe tbody tr th:only-of-type {\n",
       "        vertical-align: middle;\n",
       "    }\n",
       "\n",
       "    .dataframe tbody tr th {\n",
       "        vertical-align: top;\n",
       "    }\n",
       "\n",
       "    .dataframe thead th {\n",
       "        text-align: right;\n",
       "    }\n",
       "</style>\n",
       "<table border=\"1\" class=\"dataframe\">\n",
       "  <thead>\n",
       "    <tr style=\"text-align: right;\">\n",
       "      <th></th>\n",
       "      <th>Total Money Spent</th>\n",
       "    </tr>\n",
       "    <tr>\n",
       "      <th>Country</th>\n",
       "      <th></th>\n",
       "    </tr>\n",
       "  </thead>\n",
       "  <tbody>\n",
       "    <tr>\n",
       "      <th>Netherlands</th>\n",
       "      <td>285446.34</td>\n",
       "    </tr>\n",
       "    <tr>\n",
       "      <th>EIRE</th>\n",
       "      <td>265545.90</td>\n",
       "    </tr>\n",
       "    <tr>\n",
       "      <th>Germany</th>\n",
       "      <td>228867.14</td>\n",
       "    </tr>\n",
       "    <tr>\n",
       "      <th>France</th>\n",
       "      <td>209024.05</td>\n",
       "    </tr>\n",
       "    <tr>\n",
       "      <th>Australia</th>\n",
       "      <td>138521.31</td>\n",
       "    </tr>\n",
       "  </tbody>\n",
       "</table>\n",
       "</div>"
      ],
      "text/plain": [
       "             Total Money Spent\n",
       "Country                       \n",
       "Netherlands          285446.34\n",
       "EIRE                 265545.90\n",
       "Germany              228867.14\n",
       "France               209024.05\n",
       "Australia            138521.31"
      ]
     },
     "execution_count": 45,
     "metadata": {},
     "output_type": "execute_result"
    }
   ],
   "source": [
    "group_country_amount_spent = df_10.groupby('Country')['AmountSpent'].sum().sort_values()\n",
    "del group_country_amount_spent['United Kingdom']\n",
    "\n",
    "gca_wuk = pd.DataFrame(group_country_amount_spent)\n",
    "gca_wuk = gca_wuk.rename(columns = {'AmountSpent':'Total Money Spent'})\n",
    "gca_wuk.sort_values(by=['Total Money Spent'],ascending=False).head()"
   ]
  },
  {
   "cell_type": "code",
   "execution_count": 46,
   "metadata": {},
   "outputs": [
    {
     "data": {
      "image/png": "[encoded data removed]",
      "text/plain": [
       "<Figure size 1080x576 with 1 Axes>"
      ]
     },
     "metadata": {
      "needs_background": "light"
     },
     "output_type": "display_data"
    }
   ],
   "source": [
    "# Amount spent by each country (without UK)\n",
    "group_country_amount_spent = df_10.groupby('Country')['AmountSpent'].sum().sort_values()\n",
    "del group_country_amount_spent['United Kingdom']\n",
    "\n",
    "# plot total money spent by each country (without UK)\n",
    "plt.subplots(figsize=(15,8))\n",
    "group_country_amount_spent.plot(kind='barh', fontsize=12, color='b')\n",
    "plt.xlabel('Money Spent (Dollar)', fontsize=12)\n",
    "plt.ylabel('Country', fontsize=12)\n",
    "plt.title('Money Spent by different Countries', fontsize=12)\n",
    "plt.show()"
   ]
  },
  {
   "cell_type": "markdown",
   "metadata": {},
   "source": [
    "### **Repeat Customers**"
   ]
  },
  {
   "cell_type": "markdown",
   "metadata": {},
   "source": [
    "***11. What are the data ranges for e-commerce consumers' transactions?***"
   ]
  },
  {
   "cell_type": "code",
   "execution_count": 47,
   "metadata": {},
   "outputs": [
    {
     "name": "stdout",
     "output_type": "stream",
     "text": [
      "Date Range: 2010-12-01 08:26:00 to 2011-12-09 12:50:00\n"
     ]
    }
   ],
   "source": [
    "# Get our date range for our data\n",
    "print('Date Range: %s to %s' % (df_10['InvoiceDate'].min(), df_10['InvoiceDate'].max()))\n",
    "\n",
    "# Since Our data ends at Nov-30 2011, we're taking all of the transactions that occurred before December 01, 2011 \n",
    "df_10 = df_10.loc[df_10['InvoiceDate'] < '2011-12-01']"
   ]
  },
  {
   "cell_type": "markdown",
   "metadata": {},
   "source": [
    "***12. Total amount spent per invoice***"
   ]
  },
  {
   "cell_type": "code",
   "execution_count": 48,
   "metadata": {},
   "outputs": [
    {
     "data": {
      "text/html": [
       "<div>\n",
       "<style scoped>\n",
       "    .dataframe tbody tr th:only-of-type {\n",
       "        vertical-align: middle;\n",
       "    }\n",
       "\n",
       "    .dataframe tbody tr th {\n",
       "        vertical-align: top;\n",
       "    }\n",
       "\n",
       "    .dataframe thead th {\n",
       "        text-align: right;\n",
       "    }\n",
       "</style>\n",
       "<table border=\"1\" class=\"dataframe\">\n",
       "  <thead>\n",
       "    <tr style=\"text-align: right;\">\n",
       "      <th></th>\n",
       "      <th>InvoiceNo</th>\n",
       "      <th>InvoiceDate</th>\n",
       "      <th>AmountSpent</th>\n",
       "      <th>CustomerID</th>\n",
       "      <th>Country</th>\n",
       "    </tr>\n",
       "  </thead>\n",
       "  <tbody>\n",
       "    <tr>\n",
       "      <th>0</th>\n",
       "      <td>536365</td>\n",
       "      <td>2010-12-01 08:26:00</td>\n",
       "      <td>139.12</td>\n",
       "      <td>17850</td>\n",
       "      <td>United Kingdom</td>\n",
       "    </tr>\n",
       "    <tr>\n",
       "      <th>1</th>\n",
       "      <td>536366</td>\n",
       "      <td>2010-12-01 08:28:00</td>\n",
       "      <td>22.20</td>\n",
       "      <td>17850</td>\n",
       "      <td>United Kingdom</td>\n",
       "    </tr>\n",
       "    <tr>\n",
       "      <th>2</th>\n",
       "      <td>536367</td>\n",
       "      <td>2010-12-01 08:34:00</td>\n",
       "      <td>278.73</td>\n",
       "      <td>13047</td>\n",
       "      <td>United Kingdom</td>\n",
       "    </tr>\n",
       "    <tr>\n",
       "      <th>3</th>\n",
       "      <td>536368</td>\n",
       "      <td>2010-12-01 08:34:00</td>\n",
       "      <td>70.05</td>\n",
       "      <td>13047</td>\n",
       "      <td>United Kingdom</td>\n",
       "    </tr>\n",
       "    <tr>\n",
       "      <th>4</th>\n",
       "      <td>536369</td>\n",
       "      <td>2010-12-01 08:35:00</td>\n",
       "      <td>17.85</td>\n",
       "      <td>13047</td>\n",
       "      <td>United Kingdom</td>\n",
       "    </tr>\n",
       "  </tbody>\n",
       "</table>\n",
       "</div>"
      ],
      "text/plain": [
       "   InvoiceNo         InvoiceDate  AmountSpent  CustomerID         Country\n",
       "0     536365 2010-12-01 08:26:00       139.12       17850  United Kingdom\n",
       "1     536366 2010-12-01 08:28:00        22.20       17850  United Kingdom\n",
       "2     536367 2010-12-01 08:34:00       278.73       13047  United Kingdom\n",
       "3     536368 2010-12-01 08:34:00        70.05       13047  United Kingdom\n",
       "4     536369 2010-12-01 08:35:00        17.85       13047  United Kingdom"
      ]
     },
     "execution_count": 48,
     "metadata": {},
     "output_type": "execute_result"
    }
   ],
   "source": [
    "# Get total amount spent per invoice and associate it with CustomerID and Country\n",
    "invoice_customer_df = df_10.groupby(by=['InvoiceNo', 'InvoiceDate']).agg({'AmountSpent': sum, 'CustomerID': max,'Country': max,}).reset_index()\n",
    "invoice_customer_df.head()"
   ]
  },
  {
   "cell_type": "markdown",
   "metadata": {},
   "source": [
    "***12. The largest amount spent of invoices***"
   ]
  },
  {
   "cell_type": "code",
   "execution_count": 49,
   "metadata": {},
   "outputs": [
    {
     "data": {
      "text/html": [
       "<div>\n",
       "<style scoped>\n",
       "    .dataframe tbody tr th:only-of-type {\n",
       "        vertical-align: middle;\n",
       "    }\n",
       "\n",
       "    .dataframe tbody tr th {\n",
       "        vertical-align: top;\n",
       "    }\n",
       "\n",
       "    .dataframe thead th {\n",
       "        text-align: right;\n",
       "    }\n",
       "</style>\n",
       "<table border=\"1\" class=\"dataframe\">\n",
       "  <thead>\n",
       "    <tr style=\"text-align: right;\">\n",
       "      <th></th>\n",
       "      <th>InvoiceNo</th>\n",
       "      <th>InvoiceDate</th>\n",
       "      <th>AmountSpent</th>\n",
       "      <th>CustomerID</th>\n",
       "      <th>Country</th>\n",
       "    </tr>\n",
       "  </thead>\n",
       "  <tbody>\n",
       "    <tr>\n",
       "      <th>1911</th>\n",
       "      <td>541431</td>\n",
       "      <td>2011-01-18 10:01:00</td>\n",
       "      <td>77183.60</td>\n",
       "      <td>12346</td>\n",
       "      <td>United Kingdom</td>\n",
       "    </tr>\n",
       "    <tr>\n",
       "      <th>7949</th>\n",
       "      <td>556444</td>\n",
       "      <td>2011-06-10 15:28:00</td>\n",
       "      <td>38970.00</td>\n",
       "      <td>15098</td>\n",
       "      <td>United Kingdom</td>\n",
       "    </tr>\n",
       "    <tr>\n",
       "      <th>12446</th>\n",
       "      <td>567423</td>\n",
       "      <td>2011-09-20 11:05:00</td>\n",
       "      <td>31698.16</td>\n",
       "      <td>17450</td>\n",
       "      <td>United Kingdom</td>\n",
       "    </tr>\n",
       "    <tr>\n",
       "      <th>8135</th>\n",
       "      <td>556917</td>\n",
       "      <td>2011-06-15 13:37:00</td>\n",
       "      <td>22775.93</td>\n",
       "      <td>12415</td>\n",
       "      <td>Australia</td>\n",
       "    </tr>\n",
       "    <tr>\n",
       "      <th>14487</th>\n",
       "      <td>572209</td>\n",
       "      <td>2011-10-21 12:08:00</td>\n",
       "      <td>22206.00</td>\n",
       "      <td>18102</td>\n",
       "      <td>United Kingdom</td>\n",
       "    </tr>\n",
       "    <tr>\n",
       "      <th>12438</th>\n",
       "      <td>567381</td>\n",
       "      <td>2011-09-20 10:12:00</td>\n",
       "      <td>22104.80</td>\n",
       "      <td>17450</td>\n",
       "      <td>United Kingdom</td>\n",
       "    </tr>\n",
       "    <tr>\n",
       "      <th>10869</th>\n",
       "      <td>563614</td>\n",
       "      <td>2011-08-18 08:51:00</td>\n",
       "      <td>21880.44</td>\n",
       "      <td>12415</td>\n",
       "      <td>Australia</td>\n",
       "    </tr>\n",
       "    <tr>\n",
       "      <th>5481</th>\n",
       "      <td>550461</td>\n",
       "      <td>2011-04-18 13:20:00</td>\n",
       "      <td>21535.90</td>\n",
       "      <td>15749</td>\n",
       "      <td>United Kingdom</td>\n",
       "    </tr>\n",
       "    <tr>\n",
       "      <th>14399</th>\n",
       "      <td>572035</td>\n",
       "      <td>2011-10-20 12:03:00</td>\n",
       "      <td>20277.92</td>\n",
       "      <td>14646</td>\n",
       "      <td>Netherlands</td>\n",
       "    </tr>\n",
       "    <tr>\n",
       "      <th>10637</th>\n",
       "      <td>563076</td>\n",
       "      <td>2011-08-11 16:12:00</td>\n",
       "      <td>19150.66</td>\n",
       "      <td>14646</td>\n",
       "      <td>Netherlands</td>\n",
       "    </tr>\n",
       "  </tbody>\n",
       "</table>\n",
       "</div>"
      ],
      "text/plain": [
       "       InvoiceNo         InvoiceDate  AmountSpent  CustomerID         Country\n",
       "1911      541431 2011-01-18 10:01:00     77183.60       12346  United Kingdom\n",
       "7949      556444 2011-06-10 15:28:00     38970.00       15098  United Kingdom\n",
       "12446     567423 2011-09-20 11:05:00     31698.16       17450  United Kingdom\n",
       "8135      556917 2011-06-15 13:37:00     22775.93       12415       Australia\n",
       "14487     572209 2011-10-21 12:08:00     22206.00       18102  United Kingdom\n",
       "12438     567381 2011-09-20 10:12:00     22104.80       17450  United Kingdom\n",
       "10869     563614 2011-08-18 08:51:00     21880.44       12415       Australia\n",
       "5481      550461 2011-04-18 13:20:00     21535.90       15749  United Kingdom\n",
       "14399     572035 2011-10-20 12:03:00     20277.92       14646     Netherlands\n",
       "10637     563076 2011-08-11 16:12:00     19150.66       14646     Netherlands"
      ]
     },
     "execution_count": 49,
     "metadata": {},
     "output_type": "execute_result"
    }
   ],
   "source": [
    "# Sort on Amount spent, this gives us the largest invoices\n",
    "invoice_customer_df.sort_values(by='AmountSpent', ascending=False).head(10)"
   ]
  },
  {
   "cell_type": "markdown",
   "metadata": {},
   "source": [
    "***13. The number of unique repeat customers by month***"
   ]
  },
  {
   "cell_type": "code",
   "execution_count": 50,
   "metadata": {},
   "outputs": [
    {
     "data": {
      "text/html": [
       "<div>\n",
       "<style scoped>\n",
       "    .dataframe tbody tr th:only-of-type {\n",
       "        vertical-align: middle;\n",
       "    }\n",
       "\n",
       "    .dataframe tbody tr th {\n",
       "        vertical-align: top;\n",
       "    }\n",
       "\n",
       "    .dataframe thead th {\n",
       "        text-align: right;\n",
       "    }\n",
       "</style>\n",
       "<table border=\"1\" class=\"dataframe\">\n",
       "  <thead>\n",
       "    <tr style=\"text-align: right;\">\n",
       "      <th></th>\n",
       "      <th>CustomerID</th>\n",
       "    </tr>\n",
       "    <tr>\n",
       "      <th>InvoiceDate</th>\n",
       "      <th></th>\n",
       "    </tr>\n",
       "  </thead>\n",
       "  <tbody>\n",
       "    <tr>\n",
       "      <th>2011-11-30</th>\n",
       "      <td>541</td>\n",
       "    </tr>\n",
       "    <tr>\n",
       "      <th>2011-10-31</th>\n",
       "      <td>324</td>\n",
       "    </tr>\n",
       "    <tr>\n",
       "      <th>2011-05-31</th>\n",
       "      <td>281</td>\n",
       "    </tr>\n",
       "    <tr>\n",
       "      <th>2011-09-30</th>\n",
       "      <td>272</td>\n",
       "    </tr>\n",
       "    <tr>\n",
       "      <th>2010-12-31</th>\n",
       "      <td>263</td>\n",
       "    </tr>\n",
       "    <tr>\n",
       "      <th>2011-07-31</th>\n",
       "      <td>227</td>\n",
       "    </tr>\n",
       "    <tr>\n",
       "      <th>2011-06-30</th>\n",
       "      <td>220</td>\n",
       "    </tr>\n",
       "    <tr>\n",
       "      <th>2011-03-31</th>\n",
       "      <td>203</td>\n",
       "    </tr>\n",
       "    <tr>\n",
       "      <th>2011-08-31</th>\n",
       "      <td>198</td>\n",
       "    </tr>\n",
       "    <tr>\n",
       "      <th>2011-04-30</th>\n",
       "      <td>170</td>\n",
       "    </tr>\n",
       "    <tr>\n",
       "      <th>2011-01-31</th>\n",
       "      <td>153</td>\n",
       "    </tr>\n",
       "    <tr>\n",
       "      <th>2011-02-28</th>\n",
       "      <td>153</td>\n",
       "    </tr>\n",
       "  </tbody>\n",
       "</table>\n",
       "</div>"
      ],
      "text/plain": [
       "             CustomerID\n",
       "InvoiceDate            \n",
       "2011-11-30          541\n",
       "2011-10-31          324\n",
       "2011-05-31          281\n",
       "2011-09-30          272\n",
       "2010-12-31          263\n",
       "2011-07-31          227\n",
       "2011-06-30          220\n",
       "2011-03-31          203\n",
       "2011-08-31          198\n",
       "2011-04-30          170\n",
       "2011-01-31          153\n",
       "2011-02-28          153"
      ]
     },
     "execution_count": 50,
     "metadata": {},
     "output_type": "execute_result"
    }
   ],
   "source": [
    "# We set our index to our invoice date\n",
    "# And use Grouper(freq='M') groups data by the index 'InvoiceDate' by Month\n",
    "# We then group this data by CustomerID and count the number of unique repeat customers for that month (data is the month end date)\n",
    "# The filter fucntion allows us to subselect data by the rule in our lambda function i.e. those greater than 1 (repeat customers)\n",
    "\n",
    "monthly_repeat_customers_df = invoice_customer_df.set_index('InvoiceDate').groupby([\n",
    "  pd.Grouper(freq='M'), 'CustomerID']).filter(lambda x: len(x) > 1).resample('M').nunique()['CustomerID']\n",
    "\n",
    "pd.DataFrame(monthly_repeat_customers_df).sort_values(by=['CustomerID'],ascending=False)"
   ]
  },
  {
   "cell_type": "markdown",
   "metadata": {},
   "source": [
    "***14. The number of unique customers per month***"
   ]
  },
  {
   "cell_type": "code",
   "execution_count": 51,
   "metadata": {},
   "outputs": [
    {
     "data": {
      "text/html": [
       "<div>\n",
       "<style scoped>\n",
       "    .dataframe tbody tr th:only-of-type {\n",
       "        vertical-align: middle;\n",
       "    }\n",
       "\n",
       "    .dataframe tbody tr th {\n",
       "        vertical-align: top;\n",
       "    }\n",
       "\n",
       "    .dataframe thead th {\n",
       "        text-align: right;\n",
       "    }\n",
       "</style>\n",
       "<table border=\"1\" class=\"dataframe\">\n",
       "  <thead>\n",
       "    <tr style=\"text-align: right;\">\n",
       "      <th></th>\n",
       "      <th>CustomerID</th>\n",
       "    </tr>\n",
       "    <tr>\n",
       "      <th>InvoiceDate</th>\n",
       "      <th></th>\n",
       "    </tr>\n",
       "  </thead>\n",
       "  <tbody>\n",
       "    <tr>\n",
       "      <th>2011-11-30</th>\n",
       "      <td>1665</td>\n",
       "    </tr>\n",
       "    <tr>\n",
       "      <th>2011-10-31</th>\n",
       "      <td>1364</td>\n",
       "    </tr>\n",
       "    <tr>\n",
       "      <th>2011-09-30</th>\n",
       "      <td>1266</td>\n",
       "    </tr>\n",
       "    <tr>\n",
       "      <th>2011-05-31</th>\n",
       "      <td>1056</td>\n",
       "    </tr>\n",
       "    <tr>\n",
       "      <th>2011-06-30</th>\n",
       "      <td>991</td>\n",
       "    </tr>\n",
       "    <tr>\n",
       "      <th>2011-03-31</th>\n",
       "      <td>974</td>\n",
       "    </tr>\n",
       "    <tr>\n",
       "      <th>2011-07-31</th>\n",
       "      <td>949</td>\n",
       "    </tr>\n",
       "    <tr>\n",
       "      <th>2011-08-31</th>\n",
       "      <td>935</td>\n",
       "    </tr>\n",
       "    <tr>\n",
       "      <th>2010-12-31</th>\n",
       "      <td>885</td>\n",
       "    </tr>\n",
       "    <tr>\n",
       "      <th>2011-04-30</th>\n",
       "      <td>856</td>\n",
       "    </tr>\n",
       "    <tr>\n",
       "      <th>2011-02-28</th>\n",
       "      <td>758</td>\n",
       "    </tr>\n",
       "    <tr>\n",
       "      <th>2011-01-31</th>\n",
       "      <td>741</td>\n",
       "    </tr>\n",
       "  </tbody>\n",
       "</table>\n",
       "</div>"
      ],
      "text/plain": [
       "             CustomerID\n",
       "InvoiceDate            \n",
       "2011-11-30         1665\n",
       "2011-10-31         1364\n",
       "2011-09-30         1266\n",
       "2011-05-31         1056\n",
       "2011-06-30          991\n",
       "2011-03-31          974\n",
       "2011-07-31          949\n",
       "2011-08-31          935\n",
       "2010-12-31          885\n",
       "2011-04-30          856\n",
       "2011-02-28          758\n",
       "2011-01-31          741"
      ]
     },
     "execution_count": 51,
     "metadata": {},
     "output_type": "execute_result"
    }
   ],
   "source": [
    "# Number of Unique customers per month\n",
    "monthly_unique_customers_df = df_10.set_index('InvoiceDate')['CustomerID'].resample('M').nunique()\n",
    "pd.DataFrame(monthly_unique_customers_df).sort_values(by=['CustomerID'],ascending=False)"
   ]
  },
  {
   "cell_type": "markdown",
   "metadata": {},
   "source": [
    "***15. Ratio of Repeat to Unique customers***"
   ]
  },
  {
   "cell_type": "code",
   "execution_count": 52,
   "metadata": {},
   "outputs": [
    {
     "data": {
      "text/plain": [
       "InvoiceDate\n",
       "2010-12-31    29.717514\n",
       "2011-01-31    20.647773\n",
       "2011-02-28    20.184697\n",
       "2011-03-31    20.841889\n",
       "2011-04-30    19.859813\n",
       "2011-05-31    26.609848\n",
       "2011-06-30    22.199798\n",
       "2011-07-31    23.919916\n",
       "2011-08-31    21.176471\n",
       "2011-09-30    21.484992\n",
       "2011-10-31    23.753666\n",
       "2011-11-30    32.492492\n",
       "Freq: M, Name: CustomerID, dtype: float64"
      ]
     },
     "execution_count": 52,
     "metadata": {},
     "output_type": "execute_result"
    }
   ],
   "source": [
    "# Ratio of Repeat to Unique customers\n",
    "monthly_repeat_percentage = monthly_repeat_customers_df/monthly_unique_customers_df*100.0\n",
    "monthly_repeat_percentage"
   ]
  },
  {
   "cell_type": "code",
   "execution_count": 53,
   "metadata": {},
   "outputs": [
    {
     "data": {
      "image/png": "[encoded data removed]",
      "text/plain": [
       "<Figure size 864x576 with 2 Axes>"
      ]
     },
     "metadata": {
      "needs_background": "light"
     },
     "output_type": "display_data"
    }
   ],
   "source": [
    "# Plotting this visually\n",
    "# Note we're using a 2 scale y axis (left and right)\n",
    "\n",
    "ax = pd.DataFrame(monthly_repeat_customers_df.values).plot(figsize=(12,8))\n",
    "\n",
    "pd.DataFrame(monthly_unique_customers_df.values).plot(ax=ax,grid=True)\n",
    "\n",
    "ax2 = pd.DataFrame(monthly_repeat_percentage.values).plot.bar(ax=ax,grid=True,secondary_y=True,color='blue',alpha=0.3)\n",
    "\n",
    "ax.set_xlabel('Date')\n",
    "ax.set_ylabel('Number of Customers')\n",
    "ax.set_title('Number of Unique vs. Repeat Customers Over Time')\n",
    "\n",
    "ax2.set_ylabel('percentage (%)')\n",
    "\n",
    "ax.legend(['Repeat Customers', 'All Customers'])\n",
    "ax2.legend(['Percentage of Repeat'], loc='upper right')\n",
    "\n",
    "ax.set_ylim([0, monthly_unique_customers_df.values.max()+100])\n",
    "ax2.set_ylim([0, 100])\n",
    "\n",
    "plt.xticks(range(len(monthly_repeat_customers_df.index)), [x.strftime('%m.%Y') for x in monthly_repeat_customers_df.index], rotation=45)\n",
    "\n",
    "plt.show()"
   ]
  },
  {
   "cell_type": "markdown",
   "metadata": {},
   "source": [
    "***17. the relationship between revenue and repeat customers***"
   ]
  },
  {
   "cell_type": "code",
   "execution_count": 54,
   "metadata": {},
   "outputs": [
    {
     "data": {
      "text/plain": [
       "InvoiceDate\n",
       "2010-12-31    62.713792\n",
       "2011-01-31    39.007101\n",
       "2011-02-28    42.767478\n",
       "2011-03-31    44.901787\n",
       "2011-04-30    41.661132\n",
       "2011-05-31    55.732401\n",
       "2011-06-30    56.911595\n",
       "2011-07-31    52.904475\n",
       "2011-08-31    49.141899\n",
       "2011-09-30    52.544416\n",
       "2011-10-31    55.229144\n",
       "2011-11-30    61.436148\n",
       "Freq: M, Name: AmountSpent, dtype: float64"
      ]
     },
     "execution_count": 54,
     "metadata": {},
     "output_type": "execute_result"
    }
   ],
   "source": [
    "# Let's investigate the relationship between revenue and repeat customers\n",
    "monthly_revenue_df = df_10.set_index('InvoiceDate')['AmountSpent'].resample('M').sum()\n",
    "\n",
    "monthly_rev_repeat_customers_df = invoice_customer_df.set_index('InvoiceDate').groupby([\n",
    "    pd.Grouper(freq='M'), 'CustomerID']).filter(lambda x: len(x) > 1).resample('M').sum()['AmountSpent']\n",
    "\n",
    "# Let's get a percentage of the revenue from repeat customers to the overall monthly revenue\n",
    "monthly_rev_perc_repeat_customers_df = monthly_rev_repeat_customers_df/monthly_revenue_df * 100.0\n",
    "monthly_rev_perc_repeat_customers_df"
   ]
  },
  {
   "cell_type": "code",
   "execution_count": 55,
   "metadata": {},
   "outputs": [
    {
     "data": {
      "image/png": "[encoded data removed]",
      "text/plain": [
       "<Figure size 864x576 with 2 Axes>"
      ]
     },
     "metadata": {
      "needs_background": "light"
     },
     "output_type": "display_data"
    }
   ],
   "source": [
    "# Now let's plot this information we obtained above\n",
    "ax = pd.DataFrame(monthly_revenue_df.values).plot(figsize=(12,8))\n",
    "\n",
    "pd.DataFrame(monthly_rev_repeat_customers_df.values).plot(ax=ax,grid=True,)\n",
    "\n",
    "ax.set_xlabel('date')\n",
    "ax.set_ylabel('sales')\n",
    "ax.set_title('Total Revenue vs. Revenue from Repeat Customers')\n",
    "\n",
    "ax.legend(['Total Revenue', 'Repeat Customer Revenue'])\n",
    "\n",
    "ax.set_ylim([0, max(monthly_revenue_df.values)+100000])\n",
    "\n",
    "ax2 = ax.twinx()\n",
    "\n",
    "pd.DataFrame(monthly_rev_perc_repeat_customers_df.values).plot(ax=ax2,kind='bar',color='blue',alpha=0.3)\n",
    "\n",
    "ax2.set_ylim([0, max(monthly_rev_perc_repeat_customers_df.values)+30])\n",
    "ax2.set_ylabel('percentage (%)')\n",
    "ax2.legend(['Repeat Revenue Percentage'])\n",
    "\n",
    "ax2.set_xticklabels([x.strftime('%m.%Y') for x in monthly_rev_perc_repeat_customers_df.index])\n",
    "\n",
    "plt.show()"
   ]
  },
  {
   "cell_type": "markdown",
   "metadata": {},
   "source": [
    "### **Item Trends**"
   ]
  },
  {
   "cell_type": "markdown",
   "metadata": {},
   "source": [
    "***18. The number of items sold for each product for each period.***"
   ]
  },
  {
   "cell_type": "code",
   "execution_count": 56,
   "metadata": {},
   "outputs": [
    {
     "data": {
      "text/plain": [
       "InvoiceDate  StockCode\n",
       "2010-12-31   10002         224\n",
       "             10120          16\n",
       "             10125         143\n",
       "             10133         123\n",
       "             10135         366\n",
       "             11001          65\n",
       "             15034          38\n",
       "             15036         132\n",
       "             15039          17\n",
       "             16008          14\n",
       "             16010          12\n",
       "             16011          94\n",
       "             16012         120\n",
       "             16014        1029\n",
       "             16015          21\n",
       "Name: Quantity, dtype: int64"
      ]
     },
     "execution_count": 56,
     "metadata": {},
     "output_type": "execute_result"
    }
   ],
   "source": [
    "# Now let's get quantity of each item sold per month\n",
    "date_item_df = df_10.set_index('InvoiceDate').groupby([pd.Grouper(freq='M'), 'StockCode'])['Quantity'].sum()\n",
    "\n",
    "date_item_df.head(15)"
   ]
  },
  {
   "cell_type": "markdown",
   "metadata": {},
   "source": [
    "***19. Rank items by the last month's sales***"
   ]
  },
  {
   "cell_type": "code",
   "execution_count": 57,
   "metadata": {},
   "outputs": [
    {
     "data": {
      "text/html": [
       "<div>\n",
       "<style scoped>\n",
       "    .dataframe tbody tr th:only-of-type {\n",
       "        vertical-align: middle;\n",
       "    }\n",
       "\n",
       "    .dataframe tbody tr th {\n",
       "        vertical-align: top;\n",
       "    }\n",
       "\n",
       "    .dataframe thead th {\n",
       "        text-align: right;\n",
       "    }\n",
       "</style>\n",
       "<table border=\"1\" class=\"dataframe\">\n",
       "  <thead>\n",
       "    <tr style=\"text-align: right;\">\n",
       "      <th></th>\n",
       "      <th>InvoiceDate</th>\n",
       "      <th>StockCode</th>\n",
       "      <th>Quantity</th>\n",
       "    </tr>\n",
       "  </thead>\n",
       "  <tbody>\n",
       "    <tr>\n",
       "      <th>2152</th>\n",
       "      <td>2011-11-30</td>\n",
       "      <td>84826</td>\n",
       "      <td>12551</td>\n",
       "    </tr>\n",
       "    <tr>\n",
       "      <th>1530</th>\n",
       "      <td>2011-11-30</td>\n",
       "      <td>23084</td>\n",
       "      <td>12393</td>\n",
       "    </tr>\n",
       "    <tr>\n",
       "      <th>790</th>\n",
       "      <td>2011-11-30</td>\n",
       "      <td>22197</td>\n",
       "      <td>8458</td>\n",
       "    </tr>\n",
       "    <tr>\n",
       "      <th>701</th>\n",
       "      <td>2011-11-30</td>\n",
       "      <td>22086</td>\n",
       "      <td>5919</td>\n",
       "    </tr>\n",
       "    <tr>\n",
       "      <th>2548</th>\n",
       "      <td>2011-11-30</td>\n",
       "      <td>85099B</td>\n",
       "      <td>5678</td>\n",
       "    </tr>\n",
       "    <tr>\n",
       "      <th>2158</th>\n",
       "      <td>2011-11-30</td>\n",
       "      <td>84879</td>\n",
       "      <td>5190</td>\n",
       "    </tr>\n",
       "    <tr>\n",
       "      <th>1098</th>\n",
       "      <td>2011-11-30</td>\n",
       "      <td>22578</td>\n",
       "      <td>4981</td>\n",
       "    </tr>\n",
       "    <tr>\n",
       "      <th>2554</th>\n",
       "      <td>2011-11-30</td>\n",
       "      <td>85123A</td>\n",
       "      <td>4861</td>\n",
       "    </tr>\n",
       "    <tr>\n",
       "      <th>1097</th>\n",
       "      <td>2011-11-30</td>\n",
       "      <td>22577</td>\n",
       "      <td>4582</td>\n",
       "    </tr>\n",
       "    <tr>\n",
       "      <th>2109</th>\n",
       "      <td>2011-11-30</td>\n",
       "      <td>84077</td>\n",
       "      <td>4500</td>\n",
       "    </tr>\n",
       "  </tbody>\n",
       "</table>\n",
       "</div>"
      ],
      "text/plain": [
       "     InvoiceDate StockCode  Quantity\n",
       "2152  2011-11-30     84826     12551\n",
       "1530  2011-11-30     23084     12393\n",
       "790   2011-11-30     22197      8458\n",
       "701   2011-11-30     22086      5919\n",
       "2548  2011-11-30    85099B      5678\n",
       "2158  2011-11-30     84879      5190\n",
       "1098  2011-11-30     22578      4981\n",
       "2554  2011-11-30    85123A      4861\n",
       "1097  2011-11-30     22577      4582\n",
       "2109  2011-11-30     84077      4500"
      ]
     },
     "execution_count": 57,
     "metadata": {},
     "output_type": "execute_result"
    }
   ],
   "source": [
    "# Rank items by the last month's sales\n",
    "last_month_sorted_df = date_item_df.loc['2011-11-30']\n",
    "last_month_sorted_df = last_month_sorted_df.reset_index()\n",
    "last_month_sorted_df.sort_values(by='Quantity', ascending=False).head(10)"
   ]
  },
  {
   "cell_type": "markdown",
   "metadata": {},
   "source": [
    "***21. The top 5 items sale per month***"
   ]
  },
  {
   "cell_type": "code",
   "execution_count": 58,
   "metadata": {},
   "outputs": [
    {
     "data": {
      "text/html": [
       "<div>\n",
       "<style scoped>\n",
       "    .dataframe tbody tr th:only-of-type {\n",
       "        vertical-align: middle;\n",
       "    }\n",
       "\n",
       "    .dataframe tbody tr th {\n",
       "        vertical-align: top;\n",
       "    }\n",
       "\n",
       "    .dataframe thead th {\n",
       "        text-align: right;\n",
       "    }\n",
       "</style>\n",
       "<table border=\"1\" class=\"dataframe\">\n",
       "  <thead>\n",
       "    <tr style=\"text-align: right;\">\n",
       "      <th></th>\n",
       "      <th>StockCode</th>\n",
       "      <th>ProductDescription</th>\n",
       "    </tr>\n",
       "  </thead>\n",
       "  <tbody>\n",
       "    <tr>\n",
       "      <th>0</th>\n",
       "      <td>23084</td>\n",
       "      <td>[Rabbit Night Light]</td>\n",
       "    </tr>\n",
       "    <tr>\n",
       "      <th>1</th>\n",
       "      <td>84826</td>\n",
       "      <td>[Asstd Design 3D Paper Stickers]</td>\n",
       "    </tr>\n",
       "    <tr>\n",
       "      <th>2</th>\n",
       "      <td>22197</td>\n",
       "      <td>[Small Popcorn Holder, Popcorn Holder]</td>\n",
       "    </tr>\n",
       "    <tr>\n",
       "      <th>3</th>\n",
       "      <td>22086</td>\n",
       "      <td>[Paper Chain Kit 50'S Christmas ]</td>\n",
       "    </tr>\n",
       "    <tr>\n",
       "      <th>4</th>\n",
       "      <td>85099B</td>\n",
       "      <td>[Jumbo Bag Red Retrospot]</td>\n",
       "    </tr>\n",
       "  </tbody>\n",
       "</table>\n",
       "</div>"
      ],
      "text/plain": [
       "  StockCode                      ProductDescription\n",
       "0     23084                    [Rabbit Night Light]\n",
       "1     84826        [Asstd Design 3D Paper Stickers]\n",
       "2     22197  [Small Popcorn Holder, Popcorn Holder]\n",
       "3     22086       [Paper Chain Kit 50'S Christmas ]\n",
       "4    85099B               [Jumbo Bag Red Retrospot]"
      ]
     },
     "execution_count": 58,
     "metadata": {},
     "output_type": "execute_result"
    }
   ],
   "source": [
    "# Sort the data by stock code\n",
    "st_23084 = df_10[df_10['StockCode'] == 23084]\n",
    "st_84826 = df_10[df_10['StockCode'] == 84826]\n",
    "st_22197 = df_10[df_10['StockCode'] == 22197]\n",
    "st_22086 = df_10[df_10['StockCode'] == 22086]\n",
    "st_85099B = df_10[df_10['StockCode'] == '85099B']\n",
    "\n",
    "# Get unique information\n",
    "st_23084 = st_23084['Description'].unique()\n",
    "st_84826 = st_84826['Description'].unique()\n",
    "st_22197 = st_22197['Description'].unique()\n",
    "st_22086 = st_22086['Description'].unique()\n",
    "st_85099B = st_85099B['Description'].unique()\n",
    "\n",
    "# Change to dataframe\n",
    "sc_pd = pd.DataFrame({'StockCode':['23084','84826','22197','22086','85099B'],'ProductDescription':[st_23084,st_84826,st_22197,st_22086,st_85099B]})\n",
    "sc_pd"
   ]
  },
  {
   "cell_type": "code",
   "execution_count": 59,
   "metadata": {},
   "outputs": [
    {
     "data": {
      "text/html": [
       "<div>\n",
       "<style scoped>\n",
       "    .dataframe tbody tr th:only-of-type {\n",
       "        vertical-align: middle;\n",
       "    }\n",
       "\n",
       "    .dataframe tbody tr th {\n",
       "        vertical-align: top;\n",
       "    }\n",
       "\n",
       "    .dataframe thead th {\n",
       "        text-align: right;\n",
       "    }\n",
       "</style>\n",
       "<table border=\"1\" class=\"dataframe\">\n",
       "  <thead>\n",
       "    <tr style=\"text-align: right;\">\n",
       "      <th></th>\n",
       "      <th></th>\n",
       "      <th></th>\n",
       "      <th>Quantity</th>\n",
       "    </tr>\n",
       "    <tr>\n",
       "      <th>InvoiceDate</th>\n",
       "      <th>StockCode</th>\n",
       "      <th>Description</th>\n",
       "      <th></th>\n",
       "    </tr>\n",
       "  </thead>\n",
       "  <tbody>\n",
       "    <tr>\n",
       "      <th>2010-12-31</th>\n",
       "      <th>85099B</th>\n",
       "      <th>Jumbo Bag Red Retrospot</th>\n",
       "      <td>2056</td>\n",
       "    </tr>\n",
       "    <tr>\n",
       "      <th>2011-01-31</th>\n",
       "      <th>85099B</th>\n",
       "      <th>Jumbo Bag Red Retrospot</th>\n",
       "      <td>2625</td>\n",
       "    </tr>\n",
       "    <tr>\n",
       "      <th>2011-02-28</th>\n",
       "      <th>85099B</th>\n",
       "      <th>Jumbo Bag Red Retrospot</th>\n",
       "      <td>2971</td>\n",
       "    </tr>\n",
       "    <tr>\n",
       "      <th>2011-03-31</th>\n",
       "      <th>85099B</th>\n",
       "      <th>Jumbo Bag Red Retrospot</th>\n",
       "      <td>4924</td>\n",
       "    </tr>\n",
       "    <tr>\n",
       "      <th>2011-04-30</th>\n",
       "      <th>85099B</th>\n",
       "      <th>Jumbo Bag Red Retrospot</th>\n",
       "      <td>2211</td>\n",
       "    </tr>\n",
       "    <tr>\n",
       "      <th>2011-05-31</th>\n",
       "      <th>85099B</th>\n",
       "      <th>Jumbo Bag Red Retrospot</th>\n",
       "      <td>3470</td>\n",
       "    </tr>\n",
       "    <tr>\n",
       "      <th>2011-06-30</th>\n",
       "      <th>85099B</th>\n",
       "      <th>Jumbo Bag Red Retrospot</th>\n",
       "      <td>3529</td>\n",
       "    </tr>\n",
       "    <tr>\n",
       "      <th>2011-07-31</th>\n",
       "      <th>85099B</th>\n",
       "      <th>Jumbo Bag Red Retrospot</th>\n",
       "      <td>2970</td>\n",
       "    </tr>\n",
       "    <tr>\n",
       "      <th>2011-08-31</th>\n",
       "      <th>85099B</th>\n",
       "      <th>Jumbo Bag Red Retrospot</th>\n",
       "      <td>5278</td>\n",
       "    </tr>\n",
       "    <tr>\n",
       "      <th>2011-09-30</th>\n",
       "      <th>85099B</th>\n",
       "      <th>Jumbo Bag Red Retrospot</th>\n",
       "      <td>4177</td>\n",
       "    </tr>\n",
       "    <tr>\n",
       "      <th>2011-10-31</th>\n",
       "      <th>85099B</th>\n",
       "      <th>Jumbo Bag Red Retrospot</th>\n",
       "      <td>5237</td>\n",
       "    </tr>\n",
       "    <tr>\n",
       "      <th>2011-11-30</th>\n",
       "      <th>85099B</th>\n",
       "      <th>Jumbo Bag Red Retrospot</th>\n",
       "      <td>5678</td>\n",
       "    </tr>\n",
       "  </tbody>\n",
       "</table>\n",
       "</div>"
      ],
      "text/plain": [
       "                                               Quantity\n",
       "InvoiceDate StockCode Description                      \n",
       "2010-12-31  85099B    Jumbo Bag Red Retrospot      2056\n",
       "2011-01-31  85099B    Jumbo Bag Red Retrospot      2625\n",
       "2011-02-28  85099B    Jumbo Bag Red Retrospot      2971\n",
       "2011-03-31  85099B    Jumbo Bag Red Retrospot      4924\n",
       "2011-04-30  85099B    Jumbo Bag Red Retrospot      2211\n",
       "2011-05-31  85099B    Jumbo Bag Red Retrospot      3470\n",
       "2011-06-30  85099B    Jumbo Bag Red Retrospot      3529\n",
       "2011-07-31  85099B    Jumbo Bag Red Retrospot      2970\n",
       "2011-08-31  85099B    Jumbo Bag Red Retrospot      5278\n",
       "2011-09-30  85099B    Jumbo Bag Red Retrospot      4177\n",
       "2011-10-31  85099B    Jumbo Bag Red Retrospot      5237\n",
       "2011-11-30  85099B    Jumbo Bag Red Retrospot      5678"
      ]
     },
     "execution_count": 59,
     "metadata": {},
     "output_type": "execute_result"
    }
   ],
   "source": [
    "# the top 5 items sale per month \n",
    "date_item_df = df_10.loc[df_10['StockCode'].isin(['23084', '84826', '22197', '22086', '85099B'])].set_index('InvoiceDate').groupby([\n",
    "    pd.Grouper(freq='M'), 'StockCode','Description'])['Quantity'].sum()\n",
    "\n",
    "pd.DataFrame(date_item_df)"
   ]
  },
  {
   "cell_type": "markdown",
   "metadata": {},
   "source": [
    "***22. Monthly trend of each of the top 5 items***"
   ]
  },
  {
   "cell_type": "code",
   "execution_count": 60,
   "metadata": {},
   "outputs": [
    {
     "data": {
      "text/html": [
       "<div>\n",
       "<style scoped>\n",
       "    .dataframe tbody tr th:only-of-type {\n",
       "        vertical-align: middle;\n",
       "    }\n",
       "\n",
       "    .dataframe tbody tr th {\n",
       "        vertical-align: top;\n",
       "    }\n",
       "\n",
       "    .dataframe thead th {\n",
       "        text-align: right;\n",
       "    }\n",
       "</style>\n",
       "<table border=\"1\" class=\"dataframe\">\n",
       "  <thead>\n",
       "    <tr style=\"text-align: right;\">\n",
       "      <th>StockCode</th>\n",
       "      <th>85099B</th>\n",
       "      <th>85099B</th>\n",
       "    </tr>\n",
       "    <tr>\n",
       "      <th>InvoiceDate</th>\n",
       "      <th></th>\n",
       "      <th></th>\n",
       "    </tr>\n",
       "  </thead>\n",
       "  <tbody>\n",
       "    <tr>\n",
       "      <th>2010-12-31</th>\n",
       "      <td>Jumbo Bag Red Retrospot</td>\n",
       "      <td>2056</td>\n",
       "    </tr>\n",
       "    <tr>\n",
       "      <th>2011-01-31</th>\n",
       "      <td>Jumbo Bag Red Retrospot</td>\n",
       "      <td>2625</td>\n",
       "    </tr>\n",
       "    <tr>\n",
       "      <th>2011-02-28</th>\n",
       "      <td>Jumbo Bag Red Retrospot</td>\n",
       "      <td>2971</td>\n",
       "    </tr>\n",
       "    <tr>\n",
       "      <th>2011-03-31</th>\n",
       "      <td>Jumbo Bag Red Retrospot</td>\n",
       "      <td>4924</td>\n",
       "    </tr>\n",
       "    <tr>\n",
       "      <th>2011-04-30</th>\n",
       "      <td>Jumbo Bag Red Retrospot</td>\n",
       "      <td>2211</td>\n",
       "    </tr>\n",
       "    <tr>\n",
       "      <th>2011-05-31</th>\n",
       "      <td>Jumbo Bag Red Retrospot</td>\n",
       "      <td>3470</td>\n",
       "    </tr>\n",
       "    <tr>\n",
       "      <th>2011-06-30</th>\n",
       "      <td>Jumbo Bag Red Retrospot</td>\n",
       "      <td>3529</td>\n",
       "    </tr>\n",
       "    <tr>\n",
       "      <th>2011-07-31</th>\n",
       "      <td>Jumbo Bag Red Retrospot</td>\n",
       "      <td>2970</td>\n",
       "    </tr>\n",
       "    <tr>\n",
       "      <th>2011-08-31</th>\n",
       "      <td>Jumbo Bag Red Retrospot</td>\n",
       "      <td>5278</td>\n",
       "    </tr>\n",
       "    <tr>\n",
       "      <th>2011-09-30</th>\n",
       "      <td>Jumbo Bag Red Retrospot</td>\n",
       "      <td>4177</td>\n",
       "    </tr>\n",
       "    <tr>\n",
       "      <th>2011-10-31</th>\n",
       "      <td>Jumbo Bag Red Retrospot</td>\n",
       "      <td>5237</td>\n",
       "    </tr>\n",
       "    <tr>\n",
       "      <th>2011-11-30</th>\n",
       "      <td>Jumbo Bag Red Retrospot</td>\n",
       "      <td>5678</td>\n",
       "    </tr>\n",
       "  </tbody>\n",
       "</table>\n",
       "</div>"
      ],
      "text/plain": [
       "StockCode                     85099B  85099B\n",
       "InvoiceDate                                 \n",
       "2010-12-31   Jumbo Bag Red Retrospot    2056\n",
       "2011-01-31   Jumbo Bag Red Retrospot    2625\n",
       "2011-02-28   Jumbo Bag Red Retrospot    2971\n",
       "2011-03-31   Jumbo Bag Red Retrospot    4924\n",
       "2011-04-30   Jumbo Bag Red Retrospot    2211\n",
       "2011-05-31   Jumbo Bag Red Retrospot    3470\n",
       "2011-06-30   Jumbo Bag Red Retrospot    3529\n",
       "2011-07-31   Jumbo Bag Red Retrospot    2970\n",
       "2011-08-31   Jumbo Bag Red Retrospot    5278\n",
       "2011-09-30   Jumbo Bag Red Retrospot    4177\n",
       "2011-10-31   Jumbo Bag Red Retrospot    5237\n",
       "2011-11-30   Jumbo Bag Red Retrospot    5678"
      ]
     },
     "execution_count": 60,
     "metadata": {},
     "output_type": "execute_result"
    }
   ],
   "source": [
    "# Now let's generate a monthly trend of each of the top 5 items\n",
    "trending_itmes_df = date_item_df.reset_index().pivot('InvoiceDate','StockCode').fillna(0)\n",
    "\n",
    "trending_itmes_df = trending_itmes_df.reset_index()\n",
    "trending_itmes_df = trending_itmes_df.set_index('InvoiceDate')\n",
    "trending_itmes_df.columns = trending_itmes_df.columns.droplevel(0)\n",
    "trending_itmes_df"
   ]
  },
  {
   "cell_type": "code",
   "execution_count": 61,
   "metadata": {},
   "outputs": [
    {
     "data": {
      "image/png": "[encoded data removed]",
      "text/plain": [
       "<Figure size 864x576 with 1 Axes>"
      ]
     },
     "metadata": {
      "needs_background": "light"
     },
     "output_type": "display_data"
    }
   ],
   "source": [
    "# Plot the above information\n",
    "ax = pd.DataFrame(trending_itmes_df.values).plot(figsize=(12,8), grid=True,)\n",
    "\n",
    "ax.set_ylabel('number of purchases')\n",
    "ax.set_xlabel('date')\n",
    "ax.set_title('Item Trends over Time')\n",
    "\n",
    "ax.legend(trending_itmes_df.columns, loc='upper left')\n",
    "\n",
    "plt.xticks(range(len(trending_itmes_df.index)), [x.strftime('%m.%Y') for x in trending_itmes_df.index], rotation=45)\n",
    "\n",
    "plt.show()"
   ]
  },
  {
   "cell_type": "code",
   "execution_count": 62,
   "metadata": {},
   "outputs": [],
   "source": [
    "# # Export to dataset\n",
    "# df_10.to_excel('df3.xlsx',index=False)"
   ]
  }
 ],
 "metadata": {
  "interpreter": {
   "hash": "aecd030d4c8316a52bf122072e28f84bcc79844c2684e041fef2e3f1d9f59078"
  },
  "kernelspec": {
   "display_name": "Python 3.10.1 64-bit",
   "language": "python",
   "name": "python3"
  },
  "language_info": {
   "codemirror_mode": {
    "name": "ipython",
    "version": 3
   },
   "file_extension": ".py",
   "mimetype": "text/x-python",
   "name": "python",
   "nbconvert_exporter": "python",
   "pygments_lexer": "ipython3",
   "version": "3.10.1"
  },
  "orig_nbformat": 4
 },
 "nbformat": 4,
 "nbformat_minor": 2
}
